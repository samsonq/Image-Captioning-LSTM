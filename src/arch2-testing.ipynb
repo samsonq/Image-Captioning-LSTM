{
 "cells": [
  {
   "cell_type": "code",
   "execution_count": 1,
   "metadata": {},
   "outputs": [
    {
     "name": "stdout",
     "output_type": "stream",
     "text": [
      "Using CUDA\n",
      "Using CUDA\n"
     ]
    }
   ],
   "source": [
    "import numpy as np\n",
    "import torch\n",
    "import torch.nn as nn\n",
    "from torchvision.models import resnet50\n",
    "import pkbar\n",
    "from tqdm import tqdm\n",
    "import json\n",
    "import dataset_factory\n",
    "from experiment import Experiment\n",
    "import coco_dataset\n",
    "import vocab\n",
    "import warnings\n",
    "warnings.filterwarnings(\"ignore\")\n",
    "# import nltk\n",
    "# nltk.download('punkt')\n",
    "\n",
    "%load_ext autoreload\n",
    "%autoreload 2"
   ]
  },
  {
   "cell_type": "code",
   "execution_count": 4,
   "metadata": {
    "scrolled": false
   },
   "outputs": [
    {
     "name": "stdout",
     "output_type": "stream",
     "text": [
      "cuda\n",
      "Running Experiment:  arch2exp\n",
      "loading annotations into memory...\n",
      "Done (t=0.62s)\n",
      "creating index...\n",
      "index created!\n",
      "loading annotations into memory...\n",
      "Done (t=0.28s)\n",
      "creating index...\n",
      "index created!\n",
      "Using the saved vocab.\n",
      "loading annotations into memory...\n",
      "Done (t=0.74s)\n",
      "creating index...\n",
      "index created!\n",
      "loading annotations into memory...\n",
      "Done (t=0.68s)\n",
      "creating index...\n",
      "index created!\n",
      "loading annotations into memory...\n",
      "Done (t=0.96s)\n",
      "creating index...\n",
      "index created!\n",
      "tensor([[    1,    62,     7,  ...,    41,   138,    19],\n",
      "        [    1,     4,    93,  ...,     0,     0,     0],\n",
      "        [    1,   604,    53,  ...,     0,     0,     0],\n",
      "        ...,\n",
      "        [    1,     4,  3365,  ...,     0,     0,     0],\n",
      "        [    1,     4,   117,  ...,     0,     0,     0],\n",
      "        [    1, 13856,     4,  ...,     0,     0,     0]], device='cuda:0')\n",
      "torch.Size([64, 29])\n",
      "tensor([[[-0.0652,  0.0839, -0.0445,  ...,  0.0692, -0.0522, -0.0671],\n",
      "         [-0.0980,  0.0118, -0.0524,  ...,  0.0986,  0.0573, -0.0401],\n",
      "         [-0.0930,  0.0411,  0.0257,  ...,  0.0396, -0.0892,  0.0116],\n",
      "         ...,\n",
      "         [-0.0743,  0.0050,  0.0849,  ...,  0.0303,  0.0366, -0.0925],\n",
      "         [-0.0931, -0.0753, -0.0131,  ..., -0.0824, -0.0241,  0.0480],\n",
      "         [-0.0023, -0.0162, -0.0771,  ...,  0.0682,  0.0575, -0.0977]],\n",
      "\n",
      "        [[-0.0652,  0.0839, -0.0445,  ...,  0.0692, -0.0522, -0.0671],\n",
      "         [-0.0881,  0.0874,  0.0969,  ...,  0.0851, -0.0471, -0.0305],\n",
      "         [-0.0456, -0.0725, -0.0643,  ..., -0.0391,  0.0149,  0.0924],\n",
      "         ...,\n",
      "         [ 0.0248,  0.0913,  0.0086,  ...,  0.0659, -0.0631,  0.0892],\n",
      "         [ 0.0248,  0.0913,  0.0086,  ...,  0.0659, -0.0631,  0.0892],\n",
      "         [ 0.0248,  0.0913,  0.0086,  ...,  0.0659, -0.0631,  0.0892]],\n",
      "\n",
      "        [[-0.0652,  0.0839, -0.0445,  ...,  0.0692, -0.0522, -0.0671],\n",
      "         [-0.0701,  0.0513,  0.0171,  ..., -0.0591, -0.0104,  0.0637],\n",
      "         [-0.0062, -0.0910, -0.0087,  ..., -0.0358,  0.0816, -0.0016],\n",
      "         ...,\n",
      "         [ 0.0248,  0.0913,  0.0086,  ...,  0.0659, -0.0631,  0.0892],\n",
      "         [ 0.0248,  0.0913,  0.0086,  ...,  0.0659, -0.0631,  0.0892],\n",
      "         [ 0.0248,  0.0913,  0.0086,  ...,  0.0659, -0.0631,  0.0892]],\n",
      "\n",
      "        ...,\n",
      "\n",
      "        [[-0.0652,  0.0839, -0.0445,  ...,  0.0692, -0.0522, -0.0671],\n",
      "         [-0.0881,  0.0874,  0.0969,  ...,  0.0851, -0.0471, -0.0305],\n",
      "         [-0.0883,  0.0948,  0.0427,  ..., -0.0642, -0.0966, -0.0315],\n",
      "         ...,\n",
      "         [ 0.0248,  0.0913,  0.0086,  ...,  0.0659, -0.0631,  0.0892],\n",
      "         [ 0.0248,  0.0913,  0.0086,  ...,  0.0659, -0.0631,  0.0892],\n",
      "         [ 0.0248,  0.0913,  0.0086,  ...,  0.0659, -0.0631,  0.0892]],\n",
      "\n",
      "        [[-0.0652,  0.0839, -0.0445,  ...,  0.0692, -0.0522, -0.0671],\n",
      "         [-0.0881,  0.0874,  0.0969,  ...,  0.0851, -0.0471, -0.0305],\n",
      "         [ 0.0848, -0.0957,  0.0839,  ...,  0.0326,  0.0905, -0.0145],\n",
      "         ...,\n",
      "         [ 0.0248,  0.0913,  0.0086,  ...,  0.0659, -0.0631,  0.0892],\n",
      "         [ 0.0248,  0.0913,  0.0086,  ...,  0.0659, -0.0631,  0.0892],\n",
      "         [ 0.0248,  0.0913,  0.0086,  ...,  0.0659, -0.0631,  0.0892]],\n",
      "\n",
      "        [[-0.0652,  0.0839, -0.0445,  ...,  0.0692, -0.0522, -0.0671],\n",
      "         [-0.0711, -0.0748,  0.0503,  ..., -0.0842, -0.0549, -0.0148],\n",
      "         [-0.0881,  0.0874,  0.0969,  ...,  0.0851, -0.0471, -0.0305],\n",
      "         ...,\n",
      "         [ 0.0248,  0.0913,  0.0086,  ...,  0.0659, -0.0631,  0.0892],\n",
      "         [ 0.0248,  0.0913,  0.0086,  ...,  0.0659, -0.0631,  0.0892],\n",
      "         [ 0.0248,  0.0913,  0.0086,  ...,  0.0659, -0.0631,  0.0892]]],\n",
      "       device='cuda:0', grad_fn=<EmbeddingBackward>)\n",
      "torch.Size([64, 29, 300])\n",
      "tensor([[[-0.5213,  0.4837,  0.4346,  ...,  1.1114, -0.7480, -0.3256]],\n",
      "\n",
      "        [[-0.0349,  0.5348,  0.9991,  ...,  0.2341, -0.3331, -0.3195]],\n",
      "\n",
      "        [[ 0.4149,  0.0382, -0.2543,  ...,  0.2718, -0.5543,  0.0911]],\n",
      "\n",
      "        ...,\n",
      "\n",
      "        [[ 0.3324,  1.3305,  0.6465,  ..., -0.1384,  0.0095, -0.2018]],\n",
      "\n",
      "        [[-0.3557,  1.2189,  0.8500,  ..., -0.0758, -0.2481, -0.6032]],\n",
      "\n",
      "        [[-0.5472,  0.6244,  0.6394,  ..., -0.0091, -0.8204, -0.0960]]],\n",
      "       device='cuda:0', grad_fn=<UnsqueezeBackward0>)\n",
      "torch.Size([64, 1, 300])\n"
     ]
    },
    {
     "ename": "NameError",
     "evalue": "name 'exit' is not defined",
     "output_type": "error",
     "traceback": [
      "\u001b[0;31m---------------------------------------------------------------------------\u001b[0m",
      "\u001b[0;31mNameError\u001b[0m                                 Traceback (most recent call last)",
      "\u001b[0;32m<ipython-input-4-7a37c0a393b3>\u001b[0m in \u001b[0;36m<module>\u001b[0;34m\u001b[0m\n\u001b[1;32m      5\u001b[0m \u001b[0mprint\u001b[0m\u001b[0;34m(\u001b[0m\u001b[0;34m\"Running Experiment: \"\u001b[0m\u001b[0;34m,\u001b[0m \u001b[0mexp_name\u001b[0m\u001b[0;34m)\u001b[0m\u001b[0;34m\u001b[0m\u001b[0;34m\u001b[0m\u001b[0m\n\u001b[1;32m      6\u001b[0m \u001b[0mexp\u001b[0m \u001b[0;34m=\u001b[0m \u001b[0mExperiment\u001b[0m\u001b[0;34m(\u001b[0m\u001b[0mexp_name\u001b[0m\u001b[0;34m)\u001b[0m\u001b[0;34m\u001b[0m\u001b[0;34m\u001b[0m\u001b[0m\n\u001b[0;32m----> 7\u001b[0;31m \u001b[0mexp\u001b[0m\u001b[0;34m.\u001b[0m\u001b[0mrun\u001b[0m\u001b[0;34m(\u001b[0m\u001b[0;34m)\u001b[0m\u001b[0;34m\u001b[0m\u001b[0;34m\u001b[0m\u001b[0m\n\u001b[0m\u001b[1;32m      8\u001b[0m \u001b[0mexp\u001b[0m\u001b[0;34m.\u001b[0m\u001b[0mtest\u001b[0m\u001b[0;34m(\u001b[0m\u001b[0;34m)\u001b[0m\u001b[0;34m\u001b[0m\u001b[0;34m\u001b[0m\u001b[0m\n",
      "\u001b[0;32m~/cse151b_pa4/src/experiment.py\u001b[0m in \u001b[0;36mrun\u001b[0;34m(self)\u001b[0m\n\u001b[1;32m     98\u001b[0m             \u001b[0mstart_time\u001b[0m \u001b[0;34m=\u001b[0m \u001b[0mdatetime\u001b[0m\u001b[0;34m.\u001b[0m\u001b[0mnow\u001b[0m\u001b[0;34m(\u001b[0m\u001b[0;34m)\u001b[0m\u001b[0;34m\u001b[0m\u001b[0;34m\u001b[0m\u001b[0m\n\u001b[1;32m     99\u001b[0m             \u001b[0mself\u001b[0m\u001b[0;34m.\u001b[0m\u001b[0m__current_epoch\u001b[0m \u001b[0;34m=\u001b[0m \u001b[0mepoch\u001b[0m\u001b[0;34m\u001b[0m\u001b[0;34m\u001b[0m\u001b[0m\n\u001b[0;32m--> 100\u001b[0;31m             \u001b[0mtrain_loss\u001b[0m \u001b[0;34m=\u001b[0m \u001b[0mself\u001b[0m\u001b[0;34m.\u001b[0m\u001b[0m__train\u001b[0m\u001b[0;34m(\u001b[0m\u001b[0;34m)\u001b[0m\u001b[0;34m\u001b[0m\u001b[0;34m\u001b[0m\u001b[0m\n\u001b[0m\u001b[1;32m    101\u001b[0m             \u001b[0mval_loss\u001b[0m \u001b[0;34m=\u001b[0m \u001b[0mself\u001b[0m\u001b[0;34m.\u001b[0m\u001b[0m__val\u001b[0m\u001b[0;34m(\u001b[0m\u001b[0;34m)\u001b[0m\u001b[0;34m\u001b[0m\u001b[0;34m\u001b[0m\u001b[0m\n\u001b[1;32m    102\u001b[0m             \u001b[0mself\u001b[0m\u001b[0;34m.\u001b[0m\u001b[0m__record_stats\u001b[0m\u001b[0;34m(\u001b[0m\u001b[0mtrain_loss\u001b[0m\u001b[0;34m,\u001b[0m \u001b[0mval_loss\u001b[0m\u001b[0;34m)\u001b[0m\u001b[0;34m\u001b[0m\u001b[0;34m\u001b[0m\u001b[0m\n",
      "\u001b[0;32m~/cse151b_pa4/src/experiment.py\u001b[0m in \u001b[0;36m__train\u001b[0;34m(self)\u001b[0m\n\u001b[1;32m    116\u001b[0m             \u001b[0mself\u001b[0m\u001b[0;34m.\u001b[0m\u001b[0m__model\u001b[0m\u001b[0;34m[\u001b[0m\u001b[0;36m0\u001b[0m\u001b[0;34m]\u001b[0m\u001b[0;34m.\u001b[0m\u001b[0mzero_grad\u001b[0m\u001b[0;34m(\u001b[0m\u001b[0;34m)\u001b[0m\u001b[0;34m\u001b[0m\u001b[0;34m\u001b[0m\u001b[0m\n\u001b[1;32m    117\u001b[0m             \u001b[0mfeatures\u001b[0m \u001b[0;34m=\u001b[0m \u001b[0mself\u001b[0m\u001b[0;34m.\u001b[0m\u001b[0m__model\u001b[0m\u001b[0;34m[\u001b[0m\u001b[0;36m0\u001b[0m\u001b[0;34m]\u001b[0m\u001b[0;34m(\u001b[0m\u001b[0mimages\u001b[0m\u001b[0;34m)\u001b[0m\u001b[0;34m\u001b[0m\u001b[0;34m\u001b[0m\u001b[0m\n\u001b[0;32m--> 118\u001b[0;31m             \u001b[0moutputs\u001b[0m \u001b[0;34m=\u001b[0m \u001b[0mself\u001b[0m\u001b[0;34m.\u001b[0m\u001b[0m__model\u001b[0m\u001b[0;34m[\u001b[0m\u001b[0;36m1\u001b[0m\u001b[0;34m]\u001b[0m\u001b[0;34m(\u001b[0m\u001b[0mfeatures\u001b[0m\u001b[0;34m,\u001b[0m \u001b[0mcaptions\u001b[0m\u001b[0;34m)\u001b[0m\u001b[0;34m\u001b[0m\u001b[0;34m\u001b[0m\u001b[0m\n\u001b[0m\u001b[1;32m    119\u001b[0m             \u001b[0mloss\u001b[0m \u001b[0;34m=\u001b[0m \u001b[0mself\u001b[0m\u001b[0;34m.\u001b[0m\u001b[0m__criterion\u001b[0m\u001b[0;34m(\u001b[0m\u001b[0moutputs\u001b[0m\u001b[0;34m.\u001b[0m\u001b[0mview\u001b[0m\u001b[0;34m(\u001b[0m\u001b[0;34m-\u001b[0m\u001b[0;36m1\u001b[0m\u001b[0;34m,\u001b[0m \u001b[0mlen\u001b[0m\u001b[0;34m(\u001b[0m\u001b[0mself\u001b[0m\u001b[0;34m.\u001b[0m\u001b[0m__vocab\u001b[0m\u001b[0;34m)\u001b[0m\u001b[0;34m)\u001b[0m\u001b[0;34m,\u001b[0m \u001b[0mcaptions\u001b[0m\u001b[0;34m.\u001b[0m\u001b[0mview\u001b[0m\u001b[0;34m(\u001b[0m\u001b[0;34m-\u001b[0m\u001b[0;36m1\u001b[0m\u001b[0;34m)\u001b[0m\u001b[0;34m)\u001b[0m\u001b[0;34m\u001b[0m\u001b[0;34m\u001b[0m\u001b[0m\n\u001b[1;32m    120\u001b[0m             \u001b[0mloss\u001b[0m\u001b[0;34m.\u001b[0m\u001b[0mbackward\u001b[0m\u001b[0;34m(\u001b[0m\u001b[0;34m)\u001b[0m\u001b[0;34m\u001b[0m\u001b[0;34m\u001b[0m\u001b[0m\n",
      "\u001b[0;32m/opt/conda/lib/python3.7/site-packages/torch/nn/modules/module.py\u001b[0m in \u001b[0;36m__call__\u001b[0;34m(self, *input, **kwargs)\u001b[0m\n\u001b[1;32m    545\u001b[0m             \u001b[0mresult\u001b[0m \u001b[0;34m=\u001b[0m \u001b[0mself\u001b[0m\u001b[0;34m.\u001b[0m\u001b[0m_slow_forward\u001b[0m\u001b[0;34m(\u001b[0m\u001b[0;34m*\u001b[0m\u001b[0minput\u001b[0m\u001b[0;34m,\u001b[0m \u001b[0;34m**\u001b[0m\u001b[0mkwargs\u001b[0m\u001b[0;34m)\u001b[0m\u001b[0;34m\u001b[0m\u001b[0;34m\u001b[0m\u001b[0m\n\u001b[1;32m    546\u001b[0m         \u001b[0;32melse\u001b[0m\u001b[0;34m:\u001b[0m\u001b[0;34m\u001b[0m\u001b[0;34m\u001b[0m\u001b[0m\n\u001b[0;32m--> 547\u001b[0;31m             \u001b[0mresult\u001b[0m \u001b[0;34m=\u001b[0m \u001b[0mself\u001b[0m\u001b[0;34m.\u001b[0m\u001b[0mforward\u001b[0m\u001b[0;34m(\u001b[0m\u001b[0;34m*\u001b[0m\u001b[0minput\u001b[0m\u001b[0;34m,\u001b[0m \u001b[0;34m**\u001b[0m\u001b[0mkwargs\u001b[0m\u001b[0;34m)\u001b[0m\u001b[0;34m\u001b[0m\u001b[0;34m\u001b[0m\u001b[0m\n\u001b[0m\u001b[1;32m    548\u001b[0m         \u001b[0;32mfor\u001b[0m \u001b[0mhook\u001b[0m \u001b[0;32min\u001b[0m \u001b[0mself\u001b[0m\u001b[0;34m.\u001b[0m\u001b[0m_forward_hooks\u001b[0m\u001b[0;34m.\u001b[0m\u001b[0mvalues\u001b[0m\u001b[0;34m(\u001b[0m\u001b[0;34m)\u001b[0m\u001b[0;34m:\u001b[0m\u001b[0;34m\u001b[0m\u001b[0;34m\u001b[0m\u001b[0m\n\u001b[1;32m    549\u001b[0m             \u001b[0mhook_result\u001b[0m \u001b[0;34m=\u001b[0m \u001b[0mhook\u001b[0m\u001b[0;34m(\u001b[0m\u001b[0mself\u001b[0m\u001b[0;34m,\u001b[0m \u001b[0minput\u001b[0m\u001b[0;34m,\u001b[0m \u001b[0mresult\u001b[0m\u001b[0;34m)\u001b[0m\u001b[0;34m\u001b[0m\u001b[0;34m\u001b[0m\u001b[0m\n",
      "\u001b[0;32m~/cse151b_pa4/src/model_factory.py\u001b[0m in \u001b[0;36mforward\u001b[0;34m(self, features, captions)\u001b[0m\n\u001b[1;32m     76\u001b[0m         \u001b[0mprint\u001b[0m\u001b[0;34m(\u001b[0m\u001b[0mfeatures\u001b[0m\u001b[0;34m.\u001b[0m\u001b[0munsqueeze\u001b[0m\u001b[0;34m(\u001b[0m\u001b[0;36m1\u001b[0m\u001b[0;34m)\u001b[0m\u001b[0;34m)\u001b[0m\u001b[0;34m\u001b[0m\u001b[0;34m\u001b[0m\u001b[0m\n\u001b[1;32m     77\u001b[0m         \u001b[0mprint\u001b[0m\u001b[0;34m(\u001b[0m\u001b[0mfeatures\u001b[0m\u001b[0;34m.\u001b[0m\u001b[0munsqueeze\u001b[0m\u001b[0;34m(\u001b[0m\u001b[0;36m1\u001b[0m\u001b[0;34m)\u001b[0m\u001b[0;34m.\u001b[0m\u001b[0mshape\u001b[0m\u001b[0;34m)\u001b[0m\u001b[0;34m\u001b[0m\u001b[0;34m\u001b[0m\u001b[0m\n\u001b[0;32m---> 78\u001b[0;31m         \u001b[0mexit\u001b[0m\u001b[0;34m(\u001b[0m\u001b[0;34m)\u001b[0m\u001b[0;34m\u001b[0m\u001b[0;34m\u001b[0m\u001b[0m\n\u001b[0m\u001b[1;32m     79\u001b[0m         \u001b[0minputs\u001b[0m \u001b[0;34m=\u001b[0m \u001b[0mtorch\u001b[0m\u001b[0;34m.\u001b[0m\u001b[0mcat\u001b[0m\u001b[0;34m(\u001b[0m\u001b[0;34m(\u001b[0m\u001b[0mfeatures\u001b[0m\u001b[0;34m.\u001b[0m\u001b[0munsqueeze\u001b[0m\u001b[0;34m(\u001b[0m\u001b[0;36m1\u001b[0m\u001b[0;34m)\u001b[0m\u001b[0;34m,\u001b[0m \u001b[0membeds\u001b[0m\u001b[0;34m)\u001b[0m\u001b[0;34m,\u001b[0m \u001b[0;36m1\u001b[0m\u001b[0;34m)\u001b[0m\u001b[0;34m\u001b[0m\u001b[0;34m\u001b[0m\u001b[0m\n\u001b[1;32m     80\u001b[0m \u001b[0;34m\u001b[0m\u001b[0m\n",
      "\u001b[0;31mNameError\u001b[0m: name 'exit' is not defined"
     ]
    }
   ],
   "source": [
    "device = 'cuda' if torch.cuda.is_available() else 'cpu'\n",
    "print(device)\n",
    "exp_name = 'arch2exp'\n",
    "\n",
    "print(\"Running Experiment: \", exp_name)\n",
    "exp = Experiment(exp_name)\n",
    "exp.run()\n",
    "exp.test()"
   ]
  },
  {
   "cell_type": "code",
   "execution_count": null,
   "metadata": {},
   "outputs": [],
   "source": []
  }
 ],
 "metadata": {
  "kernelspec": {
   "display_name": "Python 3",
   "language": "python",
   "name": "python3"
  },
  "language_info": {
   "codemirror_mode": {
    "name": "ipython",
    "version": 3
   },
   "file_extension": ".py",
   "mimetype": "text/x-python",
   "name": "python",
   "nbconvert_exporter": "python",
   "pygments_lexer": "ipython3",
   "version": "3.7.6"
  }
 },
 "nbformat": 4,
 "nbformat_minor": 4
}
