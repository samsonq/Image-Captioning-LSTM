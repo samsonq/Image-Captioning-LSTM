{
 "cells": [
  {
   "cell_type": "code",
   "execution_count": 1,
   "metadata": {},
   "outputs": [
    {
     "name": "stdout",
     "output_type": "stream",
     "text": [
      "Using CUDA\n",
      "Using CUDA\n"
     ]
    }
   ],
   "source": [
    "import numpy as np\n",
    "import torch\n",
    "import torch.nn as nn\n",
    "from torchvision.models import resnet50\n",
    "import pkbar\n",
    "from tqdm import tqdm\n",
    "import json\n",
    "import dataset_factory\n",
    "from experiment import Experiment\n",
    "import coco_dataset\n",
    "import vocab\n",
    "import warnings\n",
    "warnings.filterwarnings(\"ignore\")\n",
    "\n",
    "f = open(\"./default.json\")\n",
    "\n",
    "config = json.load(f)"
   ]
  },
  {
   "cell_type": "code",
   "execution_count": 2,
   "metadata": {},
   "outputs": [
    {
     "name": "stdout",
     "output_type": "stream",
     "text": [
      "cuda\n"
     ]
    }
   ],
   "source": [
    "device = 'cuda' if torch.cuda.is_available() else 'cpu'\n",
    "print(device)"
   ]
  },
  {
   "cell_type": "code",
   "execution_count": 3,
   "metadata": {},
   "outputs": [
    {
     "name": "stdout",
     "output_type": "stream",
     "text": [
      "Running Experiment:  default\n",
      "loading annotations into memory...\n",
      "Done (t=1.01s)\n",
      "creating index...\n",
      "index created!\n",
      "loading annotations into memory...\n",
      "Done (t=0.47s)\n",
      "creating index...\n",
      "index created!\n",
      "Using the saved vocab.\n",
      "loading annotations into memory...\n",
      "Done (t=0.93s)\n",
      "creating index...\n",
      "index created!\n",
      "loading annotations into memory...\n",
      "Done (t=0.84s)\n",
      "creating index...\n",
      "index created!\n",
      "loading annotations into memory...\n",
      "Done (t=0.41s)\n",
      "creating index...\n",
      "index created!\n"
     ]
    },
    {
     "name": "stderr",
     "output_type": "stream",
     "text": [
      "  0%|          | 1/235 [00:04<15:53,  4.08s/it]"
     ]
    },
    {
     "name": "stdout",
     "output_type": "stream",
     "text": [
      "predicted caption: a plate of food is on a table\n",
      "actual caption: a table with cups , a plate with cheese and tomato and a platter of bread\n"
     ]
    },
    {
     "name": "stderr",
     "output_type": "stream",
     "text": [
      "\r",
      "  1%|          | 2/235 [00:04<11:19,  2.92s/it]"
     ]
    },
    {
     "name": "stdout",
     "output_type": "stream",
     "text": [
      "predicted caption: a cat sitting on a desk next to a keyboard\n",
      "actual caption: a gray laptop with an apple in the center of the lid sits on a dark surface\n"
     ]
    },
    {
     "name": "stderr",
     "output_type": "stream",
     "text": [
      "\r",
      "  1%|▏         | 3/235 [00:04<08:12,  2.12s/it]"
     ]
    },
    {
     "name": "stdout",
     "output_type": "stream",
     "text": [
      "predicted caption: a plate with a sandwich and a pickle on it\n",
      "actual caption: a large cake shaped like a cup covered in coco powder sitting on a white cutting board\n"
     ]
    },
    {
     "name": "stderr",
     "output_type": "stream",
     "text": [
      "  2%|▏         | 5/235 [00:04<04:23,  1.15s/it]"
     ]
    },
    {
     "name": "stdout",
     "output_type": "stream",
     "text": [
      "predicted caption: a baby boy holding a teddy bear in her hand\n",
      "actual caption: the birthday cake is in the shape of a hill with a fisherman sitting on it\n",
      "predicted caption: a tennis player is hitting a ball on a court\n",
      "actual caption: a camera man wearing a red shirt aims his camera at a tennis player who is wearing a yellow bandanna and a blue shirt and a tennis racket\n"
     ]
    },
    {
     "name": "stderr",
     "output_type": "stream",
     "text": [
      "\r",
      "  3%|▎         | 6/235 [00:05<03:18,  1.16it/s]"
     ]
    },
    {
     "name": "stdout",
     "output_type": "stream",
     "text": [
      "predicted caption: a large building with a clock on the top of it\n",
      "actual caption: a tall clock tower in front of a group of buildings in a park like area\n"
     ]
    },
    {
     "name": "stderr",
     "output_type": "stream",
     "text": [
      "\r",
      "  3%|▎         | 7/235 [00:05<02:44,  1.39it/s]"
     ]
    },
    {
     "name": "stdout",
     "output_type": "stream",
     "text": [
      "predicted caption: a cat sitting on a bench in a park\n",
      "actual caption: the large cat is sitting on the bench on the side of the house where the bike is parked\n"
     ]
    },
    {
     "name": "stderr",
     "output_type": "stream",
     "text": [
      "\r",
      "  3%|▎         | 8/235 [00:05<02:08,  1.77it/s]"
     ]
    },
    {
     "name": "stdout",
     "output_type": "stream",
     "text": [
      "predicted caption: a man sitting in a chair in a room\n",
      "actual caption: a man is playing wii in a living room while other people sleep or watch him play\n"
     ]
    },
    {
     "name": "stderr",
     "output_type": "stream",
     "text": [
      "\r",
      "  4%|▍         | 9/235 [00:07<03:31,  1.07it/s]"
     ]
    },
    {
     "name": "stdout",
     "output_type": "stream",
     "text": [
      "predicted caption: a pizza sitting on top of a table\n",
      "actual caption: a table containing two pizzas covered with green beans and spinach next to a bottle of beer and a glass of wine\n",
      "predicted caption: a woman in a kitchen with a sink and a woman\n",
      "actual caption: a man in a wheelchair holding a phone to his ear , in front of a cd player and cd 's on the side\n"
     ]
    },
    {
     "name": "stderr",
     "output_type": "stream",
     "text": [
      "  5%|▌         | 12/235 [00:08<01:40,  2.21it/s]"
     ]
    },
    {
     "name": "stdout",
     "output_type": "stream",
     "text": [
      "predicted caption: a suitcase and a bag on a table\n",
      "actual caption: a black and white image of a cat , a couple of bags and a bunch of records\n",
      "predicted caption: a man standing in the snow with a snowboard\n",
      "actual caption: three people standing holding ski poles in snow , of which , a man and a woman are smiling into the camera , beside another woman looking away , with evergreens , and two people in distance\n"
     ]
    },
    {
     "name": "stderr",
     "output_type": "stream",
     "text": [
      "\r",
      "  6%|▌         | 13/235 [00:08<01:23,  2.67it/s]"
     ]
    },
    {
     "name": "stdout",
     "output_type": "stream",
     "text": [
      "predicted caption: a woman sitting at a table with a cake\n",
      "actual caption: a girl looks down at something in the hands while sitting at a set dinner table\n"
     ]
    },
    {
     "name": "stderr",
     "output_type": "stream",
     "text": [
      "\r",
      "  6%|▌         | 14/235 [00:08<01:12,  3.06it/s]"
     ]
    },
    {
     "name": "stdout",
     "output_type": "stream",
     "text": [
      "predicted caption: a table with a laptop and a book on it\n",
      "actual caption: a line of books on a book shelf with a plastic bear in front of them\n"
     ]
    },
    {
     "name": "stderr",
     "output_type": "stream",
     "text": [
      "\r",
      "  6%|▋         | 15/235 [00:08<01:08,  3.19it/s]"
     ]
    },
    {
     "name": "stdout",
     "output_type": "stream",
     "text": [
      "predicted caption: a desk with a laptop and a laptop on it\n",
      "actual caption: a messy desk with a computer , cups , glasses , bottles , books on the desk and the floor\n"
     ]
    },
    {
     "name": "stderr",
     "output_type": "stream",
     "text": [
      "\r",
      "  7%|▋         | 16/235 [00:09<01:01,  3.55it/s]"
     ]
    },
    {
     "name": "stdout",
     "output_type": "stream",
     "text": [
      "predicted caption: a room with a television , a chair , and a television\n",
      "actual caption: a view of a tv and a statue laying on the ground , next to a window\n"
     ]
    },
    {
     "name": "stderr",
     "output_type": "stream",
     "text": [
      "\r",
      "  7%|▋         | 17/235 [00:11<02:59,  1.22it/s]"
     ]
    },
    {
     "name": "stdout",
     "output_type": "stream",
     "text": [
      "predicted caption: a man is playing tennis on a court\n",
      "actual caption: a girl wearing a white tennis outfit and white shoes holds up a tennis racket on a tennis court while a woman wearing blue is seen on the side\n"
     ]
    },
    {
     "name": "stderr",
     "output_type": "stream",
     "text": [
      "  8%|▊         | 19/235 [00:11<01:49,  1.98it/s]"
     ]
    },
    {
     "name": "stdout",
     "output_type": "stream",
     "text": [
      "predicted caption: a person is sitting on a bench in a room\n",
      "actual caption: the inside of a vehicle driving down a highway with a tv playing an image\n",
      "predicted caption: a dog laying on a bed next to a book\n",
      "actual caption: a person lying in a hospital bed with a fresh cast applied to a broken leg\n"
     ]
    },
    {
     "name": "stderr",
     "output_type": "stream",
     "text": [
      "  9%|▉         | 21/235 [00:11<01:14,  2.86it/s]"
     ]
    },
    {
     "name": "stdout",
     "output_type": "stream",
     "text": [
      "predicted caption: a man riding a motorcycle on a city street\n",
      "actual caption: a person in motorcycle apparel from the back , standing in front of a person in motorcycle apparel on a motorcycle from the side , on <unk> surface by water\n",
      "predicted caption: a woman is riding a horse in a field\n",
      "actual caption: a dog with a shirt on sitting on the ground on a leash next to a man and a woman\n"
     ]
    },
    {
     "name": "stderr",
     "output_type": "stream",
     "text": [
      "\r",
      "  9%|▉         | 22/235 [00:12<01:05,  3.27it/s]"
     ]
    },
    {
     "name": "stdout",
     "output_type": "stream",
     "text": [
      "predicted caption: a bus is stopped at a bus stop\n",
      "actual caption: a street shot centers mainly on a bus alongside a sidewalk with a sign and bus stop <unk> , that is also right behind the rear part of a second bus , though a <unk> section past the bus shows trees and a turning truck\n"
     ]
    },
    {
     "name": "stderr",
     "output_type": "stream",
     "text": [
      "\r",
      " 10%|▉         | 23/235 [00:12<01:02,  3.37it/s]"
     ]
    },
    {
     "name": "stdout",
     "output_type": "stream",
     "text": [
      "predicted caption: a man holding a tennis racquet on a tennis court\n",
      "actual caption: three men stand around a tennis net while holding tennis rackets , attempting to shake hands with each other\n"
     ]
    },
    {
     "name": "stderr",
     "output_type": "stream",
     "text": [
      "\r",
      " 10%|█         | 24/235 [00:12<00:58,  3.59it/s]"
     ]
    },
    {
     "name": "stdout",
     "output_type": "stream",
     "text": [
      "predicted caption: a kitchen with a refrigerator and a stove\n",
      "actual caption: a toy model of a kitchen that has a refigerator , stove , oven and baby play pin\n"
     ]
    },
    {
     "name": "stderr",
     "output_type": "stream",
     "text": [
      " 11%|█         | 26/235 [00:14<01:38,  2.13it/s]"
     ]
    },
    {
     "name": "stdout",
     "output_type": "stream",
     "text": [
      "predicted caption: a cake with a chocolate face on it and a plate of food on it\n",
      "actual caption: a chocolate cake with a bottle of shaving cream scissors and a brush sitting on top of it\n",
      "predicted caption: a group of people standing in the snow with skis\n",
      "actual caption: a man and a woman wearing eye protection and coats stands in the snow near a couple of skiers\n"
     ]
    },
    {
     "name": "stderr",
     "output_type": "stream",
     "text": [
      " 12%|█▏        | 28/235 [00:14<01:07,  3.04it/s]"
     ]
    },
    {
     "name": "stdout",
     "output_type": "stream",
     "text": [
      "predicted caption: a man is skateboarding on a skateboard in the air\n",
      "actual caption: a kid wearing black and white is on the ledge of a skateboard ramp on his skateboard\n",
      "predicted caption: a man in a suit and tie standing next to a man\n",
      "actual caption: man in hat and glasses taking a selfie in front of a store window\n"
     ]
    },
    {
     "name": "stderr",
     "output_type": "stream",
     "text": [
      "\r",
      " 12%|█▏        | 29/235 [00:14<01:05,  3.15it/s]"
     ]
    },
    {
     "name": "stdout",
     "output_type": "stream",
     "text": [
      "predicted caption: a red double decker bus driving down a street\n",
      "actual caption: a double decker bus that has a load of people on top and an advertisement on the side\n"
     ]
    },
    {
     "name": "stderr",
     "output_type": "stream",
     "text": [
      "\r",
      " 13%|█▎        | 30/235 [00:15<00:59,  3.46it/s]"
     ]
    },
    {
     "name": "stdout",
     "output_type": "stream",
     "text": [
      "predicted caption: a computer monitor and a laptop on a desk\n",
      "actual caption: a desk holds a laptop , mouse , modem , and a lamp and there is a brown chair in front of it\n"
     ]
    },
    {
     "name": "stderr",
     "output_type": "stream",
     "text": [
      "\r",
      " 13%|█▎        | 31/235 [00:15<00:58,  3.47it/s]"
     ]
    },
    {
     "name": "stdout",
     "output_type": "stream",
     "text": [
      "predicted caption: a man in a bikini holding a surfboard\n",
      "actual caption: a man with a beard standing on the beach with a surfboard under his right arm and he is looking out into the ocean\n"
     ]
    },
    {
     "name": "stderr",
     "output_type": "stream",
     "text": [
      "\r",
      " 14%|█▎        | 32/235 [00:15<00:58,  3.45it/s]"
     ]
    },
    {
     "name": "stdout",
     "output_type": "stream",
     "text": [
      "predicted caption: a fire hydrant is on the side of a road\n",
      "actual caption: a red fire hydrant stands in a parking lot while a man holding the handle of a tool is in the distance\n"
     ]
    },
    {
     "name": "stderr",
     "output_type": "stream",
     "text": [
      "\r",
      " 14%|█▍        | 33/235 [00:17<02:29,  1.35it/s]"
     ]
    },
    {
     "name": "stdout",
     "output_type": "stream",
     "text": [
      "predicted caption: a boat with a raft and a boat in the water\n",
      "actual caption: a cruise ship is sailing close to the shore as two adults and a child walk through the sand\n"
     ]
    },
    {
     "name": "stderr",
     "output_type": "stream",
     "text": [
      " 15%|█▍        | 35/235 [00:17<01:33,  2.13it/s]"
     ]
    },
    {
     "name": "stdout",
     "output_type": "stream",
     "text": [
      "predicted caption: a dog sitting on the hood of a car\n",
      "actual caption: a white dog sitting inside a red car next to a string of flowers hanging off the mirror\n",
      "predicted caption: a man in a suit and tie is standing next to a fire hydrant\n",
      "actual caption: two people dressed up , one holding a saw and the other appears to have part of his skull cut off\n"
     ]
    },
    {
     "name": "stderr",
     "output_type": "stream",
     "text": [
      "\r",
      " 15%|█▌        | 36/235 [00:18<01:17,  2.58it/s]"
     ]
    },
    {
     "name": "stdout",
     "output_type": "stream",
     "text": [
      "predicted caption: a man riding a wave on a surfboard in the ocean\n",
      "actual caption: a young man in a colorful swim suit and yellow shirt is riding a wave on a surf board\n",
      "predicted caption: a cake with a dog sitting on top of it\n",
      "actual caption: someone is cutting the blue birthday cake with two no 2 candles on it\n"
     ]
    },
    {
     "name": "stderr",
     "output_type": "stream",
     "text": [
      " 16%|█▌        | 38/235 [00:18<00:57,  3.43it/s]"
     ]
    },
    {
     "name": "stdout",
     "output_type": "stream",
     "text": [
      "predicted caption: a baseball player is getting ready to hit the ball\n",
      "actual caption: san francisco giants pitcher standing on the mound looking at a runner on base and an umpire\n"
     ]
    },
    {
     "name": "stderr",
     "output_type": "stream",
     "text": [
      " 17%|█▋        | 40/235 [00:18<00:47,  4.10it/s]"
     ]
    },
    {
     "name": "stdout",
     "output_type": "stream",
     "text": [
      "predicted caption: a clock on a wall with a clock on it\n",
      "actual caption: a round <unk> of a building with a statue of a man 's head on top of it\n",
      "predicted caption: a hot dog with mustard and onions on a plate\n",
      "actual caption: there is a pickle slice and a hot dog on a piece of bread in a tray\n"
     ]
    },
    {
     "name": "stderr",
     "output_type": "stream",
     "text": [
      " 18%|█▊        | 42/235 [00:20<01:23,  2.31it/s]"
     ]
    },
    {
     "name": "stdout",
     "output_type": "stream",
     "text": [
      "predicted caption: a bird is standing in the water and looking out the water\n",
      "actual caption: a seagull standing on the beach with shells on the sand and the water next to it\n",
      "predicted caption: a toilet with a dolphin and a black and white tiles\n",
      "actual caption: a pink <unk> that states , `` close the door when you leave ! ! ! <unk> '' attached to an open toilet seat lid\n"
     ]
    },
    {
     "name": "stderr",
     "output_type": "stream",
     "text": [
      "\r",
      " 18%|█▊        | 43/235 [00:20<01:10,  2.74it/s]"
     ]
    },
    {
     "name": "stdout",
     "output_type": "stream",
     "text": [
      "predicted caption: a cat is sitting on a table with a bottle of coffee\n",
      "actual caption: a grey and white cat is on a table and stands between a white storage container full of stuff and scissors\n"
     ]
    },
    {
     "name": "stderr",
     "output_type": "stream",
     "text": [
      "\r",
      " 19%|█▊        | 44/235 [00:20<01:04,  2.97it/s]"
     ]
    },
    {
     "name": "stdout",
     "output_type": "stream",
     "text": [
      "predicted caption: a pizza sitting on top of a table\n",
      "actual caption: a view of a a pizza sitting on a table , with a person taking it off the tray\n"
     ]
    },
    {
     "name": "stderr",
     "output_type": "stream",
     "text": [
      "\r",
      " 19%|█▉        | 45/235 [00:20<00:57,  3.33it/s]"
     ]
    },
    {
     "name": "stdout",
     "output_type": "stream",
     "text": [
      "predicted caption: a motorcycle parked on the side of a road\n",
      "actual caption: a blue bicycle with a puppy in its basket is parked next to the bleacher steps\n"
     ]
    },
    {
     "name": "stderr",
     "output_type": "stream",
     "text": [
      "\r",
      " 20%|█▉        | 46/235 [00:21<00:51,  3.66it/s]"
     ]
    },
    {
     "name": "stdout",
     "output_type": "stream",
     "text": [
      "predicted caption: a bus is stopped at a bus stop\n",
      "actual caption: a double decker transit bus parks by a blue on the side of the street in front of a brick building in the city\n"
     ]
    },
    {
     "name": "stderr",
     "output_type": "stream",
     "text": [
      "\r",
      " 20%|██        | 47/235 [00:21<00:51,  3.65it/s]"
     ]
    },
    {
     "name": "stdout",
     "output_type": "stream",
     "text": [
      "predicted caption: a person is sitting on a couch with a laptop\n",
      "actual caption: a woman is working with orange and white fabric and several <unk> of colored thread on top of a table\n"
     ]
    },
    {
     "name": "stderr",
     "output_type": "stream",
     "text": [
      "\r",
      " 20%|██        | 48/235 [00:21<00:52,  3.57it/s]"
     ]
    },
    {
     "name": "stdout",
     "output_type": "stream",
     "text": [
      "predicted caption: a woman and woman sitting at a table with a pizza\n",
      "actual caption: two guys are sitting down at a table and one is holding a yellow napkin on his lap and a person in red is taking a picture of a plate of food\n"
     ]
    },
    {
     "name": "stderr",
     "output_type": "stream",
     "text": [
      "\r",
      " 21%|██        | 49/235 [00:23<01:56,  1.60it/s]"
     ]
    },
    {
     "name": "stdout",
     "output_type": "stream",
     "text": [
      "predicted caption: a plate of food with a salad and a bowl of soup\n",
      "actual caption: the plate with a pair of chop sticks on it is next to a bowl with a spoon in it\n"
     ]
    },
    {
     "name": "stderr",
     "output_type": "stream",
     "text": [
      "\r",
      " 21%|██▏       | 50/235 [00:23<01:35,  1.93it/s]"
     ]
    },
    {
     "name": "stdout",
     "output_type": "stream",
     "text": [
      "predicted caption: a plate of food with a sandwich and a cup of coffee\n",
      "actual caption: a piece of a delicious looking chocolate cake on a white plate decorated with green flowers\n"
     ]
    },
    {
     "name": "stderr",
     "output_type": "stream",
     "text": [
      "\r",
      " 22%|██▏       | 51/235 [00:23<01:19,  2.31it/s]"
     ]
    },
    {
     "name": "stdout",
     "output_type": "stream",
     "text": [
      "predicted caption: a group of people standing around a room\n",
      "actual caption: a woman and a boy looking up in a room with one other seated person\n"
     ]
    },
    {
     "name": "stderr",
     "output_type": "stream",
     "text": [
      "\r",
      " 22%|██▏       | 52/235 [00:23<01:10,  2.60it/s]"
     ]
    },
    {
     "name": "stdout",
     "output_type": "stream",
     "text": [
      "predicted caption: a group of people standing around a table\n",
      "actual caption: a group of people seated in chairs together and facing the same direction , with one man holding a soccer ball in his hands\n"
     ]
    },
    {
     "name": "stderr",
     "output_type": "stream",
     "text": [
      " 23%|██▎       | 54/235 [00:24<00:53,  3.40it/s]"
     ]
    },
    {
     "name": "stdout",
     "output_type": "stream",
     "text": [
      "predicted caption: a herd of sheep standing on top of a grass covered field\n",
      "actual caption: a sheep stands alert with it 's face to the camera while it 's offspring , head hidden by the sheep 's wool , drinks it 's mother 's milk\n",
      "predicted caption: a man holding a surfboard on a beach near a body of water\n",
      "actual caption: the sand area of a beach that has water on it and a woman with an umbrella over her head standing on the sand\n"
     ]
    },
    {
     "name": "stderr",
     "output_type": "stream",
     "text": [
      "\r",
      " 23%|██▎       | 55/235 [00:24<00:47,  3.77it/s]"
     ]
    },
    {
     "name": "stdout",
     "output_type": "stream",
     "text": [
      "predicted caption: a table with a plate of food and a bowl of food\n",
      "actual caption: two boxes of pizza sit on a wood table and one of the boxes is closed while the other is open to reveal a whole pizza inside of it\n",
      "predicted caption: a woman and a girl sitting on a bench\n",
      "actual caption: a little girl stands on one leg as she plays with a remote while another person lounges in the background on a couch\n"
     ]
    },
    {
     "name": "stderr",
     "output_type": "stream",
     "text": [
      " 24%|██▍       | 57/235 [00:26<01:50,  1.61it/s]"
     ]
    },
    {
     "name": "stdout",
     "output_type": "stream",
     "text": [
      "predicted caption: a person holding a hot dog in front of a plate of food\n",
      "actual caption: a man taking a photo with his right hand and eating food with his left hand\n"
     ]
    },
    {
     "name": "stderr",
     "output_type": "stream",
     "text": [
      "\r",
      " 25%|██▍       | 58/235 [00:26<01:33,  1.90it/s]"
     ]
    },
    {
     "name": "stdout",
     "output_type": "stream",
     "text": [
      "predicted caption: a person holding a hot dog in a bun\n",
      "actual caption: a hot dog with a large pickle in someone 's hand with a background of city buildings\n"
     ]
    },
    {
     "name": "stderr",
     "output_type": "stream",
     "text": [
      "\r",
      " 25%|██▌       | 59/235 [00:26<01:15,  2.32it/s]"
     ]
    },
    {
     "name": "stdout",
     "output_type": "stream",
     "text": [
      "predicted caption: a man and woman are sitting on a bench\n",
      "actual caption: a woman helping another woman hold a surfboard while she is on the back of a scooter\n"
     ]
    },
    {
     "name": "stderr",
     "output_type": "stream",
     "text": [
      "\r",
      " 26%|██▌       | 60/235 [00:27<01:08,  2.57it/s]"
     ]
    },
    {
     "name": "stdout",
     "output_type": "stream",
     "text": [
      "predicted caption: a stop sign with a sticker on it\n",
      "actual caption: an upside down road sign showing three different `` only '' options on where your lane will take you\n"
     ]
    },
    {
     "name": "stderr",
     "output_type": "stream",
     "text": [
      "\r",
      " 26%|██▌       | 61/235 [00:27<01:01,  2.82it/s]"
     ]
    },
    {
     "name": "stdout",
     "output_type": "stream",
     "text": [
      "predicted caption: a bathroom with a toilet and a toilet\n",
      "actual caption: the interior of a bathroom with crumpled and torn toilet paper on the floor along with a toilet roll that has been pulled\n"
     ]
    },
    {
     "name": "stderr",
     "output_type": "stream",
     "text": [
      "\r",
      " 26%|██▋       | 62/235 [00:27<00:58,  2.94it/s]"
     ]
    },
    {
     "name": "stdout",
     "output_type": "stream",
     "text": [
      "predicted caption: a man and a woman are flying a kite in a park\n",
      "actual caption: kite flying , unusual designed , orange oval shaped with man dressed in blue jacket , head cap but wearing shorts , on grass plateau , mountain back ground partly cloudy blue sky\n"
     ]
    },
    {
     "name": "stderr",
     "output_type": "stream",
     "text": [
      " 27%|██▋       | 64/235 [00:28<00:46,  3.68it/s]"
     ]
    },
    {
     "name": "stdout",
     "output_type": "stream",
     "text": [
      "predicted caption: a woman holding an umbrella and a dog in a park\n",
      "actual caption: a person wearing <unk> 's is holding a multicolored umbrella while walking on the sidewalk by a brick building\n",
      "predicted caption: a street sign is on a pole in front of a building\n",
      "actual caption: woman hangs off of street sign pole like she 's on a pirate ship looking for land\n"
     ]
    },
    {
     "name": "stderr",
     "output_type": "stream",
     "text": [
      "\r",
      " 28%|██▊       | 65/235 [00:29<01:37,  1.74it/s]"
     ]
    },
    {
     "name": "stdout",
     "output_type": "stream",
     "text": [
      "predicted caption: a red fire hydrant with a blue top and a blue and white fire hydrant\n",
      "actual caption: the fireplug is positioned between 2 slanted posts , all three of which are dotted with graffiti\n"
     ]
    },
    {
     "name": "stderr",
     "output_type": "stream",
     "text": [
      "\r",
      " 28%|██▊       | 66/235 [00:29<01:19,  2.12it/s]"
     ]
    },
    {
     "name": "stdout",
     "output_type": "stream",
     "text": [
      "predicted caption: a traffic light is shown in front of a building\n",
      "actual caption: a city street that has parked cars on the side of the street and other cars at a traffic light in front of various stores\n"
     ]
    },
    {
     "name": "stderr",
     "output_type": "stream",
     "text": [
      "\r",
      " 29%|██▊       | 67/235 [00:29<01:10,  2.38it/s]"
     ]
    },
    {
     "name": "stdout",
     "output_type": "stream",
     "text": [
      "predicted caption: a street sign is on a pole in front of a building\n",
      "actual caption: a corner with a stop sign , a no entry sign and a one way sign in front of a brick wall with graffiti\n"
     ]
    },
    {
     "name": "stderr",
     "output_type": "stream",
     "text": [
      "\r",
      " 29%|██▉       | 68/235 [00:30<01:03,  2.61it/s]"
     ]
    },
    {
     "name": "stdout",
     "output_type": "stream",
     "text": [
      "predicted caption: a group of people sitting on a couch in a living room\n",
      "actual caption: a girl has presents in front of her near another woman and a dog on a living room floor\n"
     ]
    },
    {
     "name": "stderr",
     "output_type": "stream",
     "text": [
      "\r",
      " 29%|██▉       | 69/235 [00:30<00:58,  2.86it/s]"
     ]
    },
    {
     "name": "stdout",
     "output_type": "stream",
     "text": [
      "predicted caption: a clock on a wall with a clock on it\n",
      "actual caption: a tall building with a round glass window and a sculpture of a creepy old man 's face above it\n"
     ]
    },
    {
     "name": "stderr",
     "output_type": "stream",
     "text": [
      "\r",
      " 30%|██▉       | 70/235 [00:30<00:50,  3.25it/s]"
     ]
    },
    {
     "name": "stdout",
     "output_type": "stream",
     "text": [
      "predicted caption: a clock on a pole in front of a building\n",
      "actual caption: an art sculpture with three street clocks combined together under and arch and held together in the air\n"
     ]
    },
    {
     "name": "stderr",
     "output_type": "stream",
     "text": [
      "\r",
      " 30%|███       | 71/235 [00:30<00:45,  3.61it/s]"
     ]
    },
    {
     "name": "stdout",
     "output_type": "stream",
     "text": [
      "predicted caption: a plate of food with a salad and a fork\n",
      "actual caption: a fried egg with a <unk> yolk tops a mini whole wheat pizza made with melted cheese and spinach\n"
     ]
    },
    {
     "name": "stderr",
     "output_type": "stream",
     "text": [
      "\r",
      " 31%|███       | 72/235 [00:31<00:45,  3.60it/s]"
     ]
    },
    {
     "name": "stdout",
     "output_type": "stream",
     "text": [
      "predicted caption: a man standing in a room with a wii remote in his hand\n",
      "actual caption: a lady is standing in pastel colored bathroom in front of the bathtub and there are christmas lights hanging up outside of the doorway\n"
     ]
    },
    {
     "name": "stderr",
     "output_type": "stream",
     "text": [
      "\r",
      " 31%|███       | 73/235 [00:32<01:35,  1.70it/s]"
     ]
    },
    {
     "name": "stdout",
     "output_type": "stream",
     "text": [
      "predicted caption: a group of people sitting around a table\n",
      "actual caption: four women , two holding open umbrellas ; one up and one down , one clapping and one with two fingers up , and one man standing in a row posing for camera on a brick street with shop behind\n"
     ]
    },
    {
     "name": "stderr",
     "output_type": "stream",
     "text": [
      "\r",
      " 31%|███▏      | 74/235 [00:32<01:16,  2.11it/s]"
     ]
    },
    {
     "name": "stdout",
     "output_type": "stream",
     "text": [
      "predicted caption: a woman holding a baby dryer in a room\n",
      "actual caption: a man with glasses looking at himself in the mirror with a toothbrush in his hand\n"
     ]
    },
    {
     "name": "stderr",
     "output_type": "stream",
     "text": [
      " 32%|███▏      | 76/235 [00:33<00:53,  2.98it/s]"
     ]
    },
    {
     "name": "stdout",
     "output_type": "stream",
     "text": [
      "predicted caption: a cake is on a table with a knife and a knife\n",
      "actual caption: a hand holding a piece of cake with a bite out of it in front of a black and white cat\n",
      "predicted caption: a boat with a raft and a boat on it\n",
      "actual caption: a boat with three people are out in the water and a women is standing over at a ledge talking to someone next to her\n"
     ]
    },
    {
     "name": "stderr",
     "output_type": "stream",
     "text": [
      "\r",
      " 33%|███▎      | 77/235 [00:33<00:50,  3.13it/s]"
     ]
    },
    {
     "name": "stdout",
     "output_type": "stream",
     "text": [
      "predicted caption: a person is flying a kite in the air\n",
      "actual caption: a pair of skiers on the top of a ski slope with clouds and large mountain in the background\n"
     ]
    },
    {
     "name": "stderr",
     "output_type": "stream",
     "text": [
      " 34%|███▎      | 79/235 [00:33<00:40,  3.82it/s]"
     ]
    },
    {
     "name": "stdout",
     "output_type": "stream",
     "text": [
      "predicted caption: a living room with a couch , chairs , a television and a television\n",
      "actual caption: view of a home , living room , and dining room with cabinets , books , and assorted furniture\n",
      "predicted caption: a cat sitting on a couch in front of a television\n",
      "actual caption: a cat sitting on the couch next to a remote and across from a laptop computer\n"
     ]
    },
    {
     "name": "stderr",
     "output_type": "stream",
     "text": [
      "\r",
      " 34%|███▍      | 80/235 [00:33<00:38,  4.06it/s]"
     ]
    },
    {
     "name": "stdout",
     "output_type": "stream",
     "text": [
      "predicted caption: a bus is stopped at a bus stop\n",
      "actual caption: a street view , left , shows a curb with a yellow fire hydrant and a big bus , holding a bicycle in front , and to the right , an island with cars moving on either side , and far off street signs , a crosswalk with pedestrians , and buildings\n"
     ]
    },
    {
     "name": "stderr",
     "output_type": "stream",
     "text": [
      "\r",
      " 34%|███▍      | 81/235 [00:35<01:34,  1.63it/s]"
     ]
    },
    {
     "name": "stdout",
     "output_type": "stream",
     "text": [
      "predicted caption: a cat laying on a bed next to a book\n",
      "actual caption: a cat laying on a chair while woman lays her head on the cat\n"
     ]
    },
    {
     "name": "stderr",
     "output_type": "stream",
     "text": [
      "\r",
      " 35%|███▍      | 82/235 [00:35<01:15,  2.02it/s]"
     ]
    },
    {
     "name": "stdout",
     "output_type": "stream",
     "text": [
      "predicted caption: a man and a woman holding a tennis racquet\n",
      "actual caption: four men standing against a brick wall with one of them eating from a food container , one with several carrots stuffed into him mouth and the other two standing next to them\n"
     ]
    },
    {
     "name": "stderr",
     "output_type": "stream",
     "text": [
      " 36%|███▌      | 84/235 [00:36<00:51,  2.90it/s]"
     ]
    },
    {
     "name": "stdout",
     "output_type": "stream",
     "text": [
      "predicted caption: a kitchen with a sink , a stove and a microwave\n",
      "actual caption: a commercial kitchen with stainless steel worktable and appliances including refrigerator , deep fryer , and gas stove\n",
      "predicted caption: a street sign is on a pole in front of a building\n",
      "actual caption: a street post with street signs and a one way sign on it , along with a building in the background\n"
     ]
    },
    {
     "name": "stderr",
     "output_type": "stream",
     "text": [
      "\r",
      " 36%|███▌      | 85/235 [00:36<00:45,  3.32it/s]"
     ]
    },
    {
     "name": "stdout",
     "output_type": "stream",
     "text": [
      "predicted caption: a motorcycle parked on the side of a road\n",
      "actual caption: a store that says `` ray 's tavern '' and a group of motorcycles parked outside the store\n"
     ]
    },
    {
     "name": "stderr",
     "output_type": "stream",
     "text": [
      "\r",
      " 37%|███▋      | 86/235 [00:36<00:41,  3.63it/s]"
     ]
    },
    {
     "name": "stdout",
     "output_type": "stream",
     "text": [
      "predicted caption: a group of young men playing a game of soccer\n",
      "actual caption: a row of men wearing striped shirts stand on a tennis court next to a man in a black t-shirt\n"
     ]
    },
    {
     "name": "stderr",
     "output_type": "stream",
     "text": [
      "\r",
      " 37%|███▋      | 87/235 [00:36<00:41,  3.55it/s]"
     ]
    },
    {
     "name": "stdout",
     "output_type": "stream",
     "text": [
      "predicted caption: a street sign is on a pole in front of a building\n",
      "actual caption: an green and white overhead street sign on interstate <unk> for queens and <unk> , showing a truck <unk>\n"
     ]
    },
    {
     "name": "stderr",
     "output_type": "stream",
     "text": [
      "\r",
      " 37%|███▋      | 88/235 [00:36<00:37,  3.88it/s]"
     ]
    },
    {
     "name": "stdout",
     "output_type": "stream",
     "text": [
      "predicted caption: a group of men playing a game of baseball\n",
      "actual caption: a dog is running for a frisbee in the middle of a playing field in a crowded stadium\n"
     ]
    },
    {
     "name": "stderr",
     "output_type": "stream",
     "text": [
      " 38%|███▊      | 90/235 [00:38<01:15,  1.92it/s]"
     ]
    },
    {
     "name": "stdout",
     "output_type": "stream",
     "text": [
      "predicted caption: a table topped with a plate of food and a bowl of food\n",
      "actual caption: meal of egg `` salad '' , apple , yogurt parfait , and lemonade on a narrow countertop\n",
      "predicted caption: a dog sitting on the ground next to a car\n",
      "actual caption: a old wooden boat that is destroyed on a grassy area near a black and white dog\n"
     ]
    },
    {
     "name": "stderr",
     "output_type": "stream",
     "text": [
      "\r",
      " 39%|███▊      | 91/235 [00:38<01:00,  2.36it/s]"
     ]
    },
    {
     "name": "stdout",
     "output_type": "stream",
     "text": [
      "predicted caption: a red and white fire hydrant in the middle of a city\n",
      "actual caption: twenty five different pictures , some of plants , some of people and some of water , but all have the color green\n"
     ]
    },
    {
     "name": "stderr",
     "output_type": "stream",
     "text": [
      "\r",
      " 39%|███▉      | 92/235 [00:39<00:51,  2.78it/s]"
     ]
    },
    {
     "name": "stdout",
     "output_type": "stream",
     "text": [
      "predicted caption: a man riding a wave on a surfboard in the ocean\n",
      "actual caption: one person holds the back of a surfboard while another person stands on the front of it on one leg\n"
     ]
    },
    {
     "name": "stderr",
     "output_type": "stream",
     "text": [
      "\r",
      " 40%|███▉      | 93/235 [00:39<00:44,  3.17it/s]"
     ]
    },
    {
     "name": "stdout",
     "output_type": "stream",
     "text": [
      "predicted caption: a cat is laying on a couch with a remote control\n",
      "actual caption: a person in a pink skirt and blue shoes standing in front of a cat sitting on a rug\n"
     ]
    },
    {
     "name": "stderr",
     "output_type": "stream",
     "text": [
      "\r",
      " 40%|████      | 94/235 [00:39<00:42,  3.30it/s]"
     ]
    },
    {
     "name": "stdout",
     "output_type": "stream",
     "text": [
      "predicted caption: a dog is sitting in the grass with a frisbee\n",
      "actual caption: a dog with it 's mouth open and head next to the window of a car , looking out of the vehicle\n"
     ]
    },
    {
     "name": "stderr",
     "output_type": "stream",
     "text": [
      "\r",
      " 40%|████      | 95/235 [00:40<00:46,  2.99it/s]"
     ]
    },
    {
     "name": "stdout",
     "output_type": "stream",
     "text": [
      "predicted caption: a woman is sitting at a table with a plate of food\n",
      "actual caption: a woman sits at a table with a pan of pasta in front of her , and a slice on her plate\n"
     ]
    },
    {
     "name": "stderr",
     "output_type": "stream",
     "text": [
      "\r",
      " 41%|████      | 96/235 [00:40<00:41,  3.36it/s]"
     ]
    },
    {
     "name": "stdout",
     "output_type": "stream",
     "text": [
      "predicted caption: a man riding a skateboard down a road\n",
      "actual caption: a blurry skateboarder in the foreground catches some air in what looks like a rail yard\n"
     ]
    },
    {
     "name": "stderr",
     "output_type": "stream",
     "text": [
      "\r",
      " 41%|████▏     | 97/235 [00:42<01:50,  1.25it/s]"
     ]
    },
    {
     "name": "stdout",
     "output_type": "stream",
     "text": [
      "predicted caption: a horse drawn carriage with a man on a leash\n",
      "actual caption: a street that has three cows walking down the street together and people on the sidewalk area\n"
     ]
    },
    {
     "name": "stderr",
     "output_type": "stream",
     "text": [
      " 42%|████▏     | 99/235 [00:42<01:07,  2.02it/s]"
     ]
    },
    {
     "name": "stdout",
     "output_type": "stream",
     "text": [
      "predicted caption: a kitchen with a refrigerator and a stove\n",
      "actual caption: kitchen with refrigerator , stove , table , sweeper and clock on the wall in red and white decor\n",
      "predicted caption: a display of fruit and other fruits in a store\n",
      "actual caption: a man smiling for camera behind a market produce stand with apples , tomatoes , oranges , with price tags\n"
     ]
    },
    {
     "name": "stderr",
     "output_type": "stream",
     "text": [
      "\r",
      " 43%|████▎     | 100/235 [00:42<00:54,  2.46it/s]"
     ]
    },
    {
     "name": "stdout",
     "output_type": "stream",
     "text": [
      "predicted caption: a cat is laying on the floor and looking out the window\n",
      "actual caption: the dog is laying down underneath the table because he is in trouble for chewing on things he should n't have chewed on\n"
     ]
    },
    {
     "name": "stderr",
     "output_type": "stream",
     "text": [
      "\r",
      " 43%|████▎     | 101/235 [00:43<00:46,  2.88it/s]"
     ]
    },
    {
     "name": "stdout",
     "output_type": "stream",
     "text": [
      "predicted caption: a kitchen with a stove and a sink\n",
      "actual caption: a kitchen with wooden cabinets and various bowls of fruits and vegetables on the counter , next to a white stovetop oven\n"
     ]
    },
    {
     "name": "stderr",
     "output_type": "stream",
     "text": [
      "\r",
      " 43%|████▎     | 102/235 [00:43<00:43,  3.08it/s]"
     ]
    },
    {
     "name": "stdout",
     "output_type": "stream",
     "text": [
      "predicted caption: a group of men playing a game of frisbee\n",
      "actual caption: girl laying down in the street with others look on and a horse drawn carriage parked at the curb\n"
     ]
    },
    {
     "name": "stderr",
     "output_type": "stream",
     "text": [
      "\r",
      " 44%|████▍     | 103/235 [00:43<00:39,  3.35it/s]"
     ]
    },
    {
     "name": "stdout",
     "output_type": "stream",
     "text": [
      "predicted caption: a cow standing in the middle of a field\n",
      "actual caption: green fields with shrubs and gentle rises and dips in the terrain has a large black cow standing on it , <unk> , and a second one that is looking around at the other one\n"
     ]
    },
    {
     "name": "stderr",
     "output_type": "stream",
     "text": [
      "\r",
      " 44%|████▍     | 104/235 [00:43<00:38,  3.44it/s]"
     ]
    },
    {
     "name": "stdout",
     "output_type": "stream",
     "text": [
      "predicted caption: a traffic light with a street sign on it\n",
      "actual caption: a look up a street post with a stoplight and sign low with a light on top\n"
     ]
    },
    {
     "name": "stderr",
     "output_type": "stream",
     "text": [
      " 45%|████▌     | 106/235 [00:45<01:06,  1.93it/s]"
     ]
    },
    {
     "name": "stdout",
     "output_type": "stream",
     "text": [
      "predicted caption: a cat is sitting on a table with a bottle of coffee\n",
      "actual caption: a white and tabby striped cat sits on a kitchen counter amidst a scissors , napkins , and a plastic bin of items\n",
      "predicted caption: a dog is laying on the back of a car\n",
      "actual caption: a dog who is next to his stuffed toy seems very concerned by whatever is in the background\n"
     ]
    },
    {
     "name": "stderr",
     "output_type": "stream",
     "text": [
      "\r",
      " 46%|████▌     | 107/235 [00:45<00:55,  2.32it/s]"
     ]
    },
    {
     "name": "stdout",
     "output_type": "stream",
     "text": [
      "predicted caption: a kitchen with a sink and a stove\n",
      "actual caption: a tight , rectangular kitchen space , with kiwi colored walls and a grey door , shows cabinet and counter spaces of pale wood , holding built in appliances , that borders a white tiled floor\n",
      "predicted caption: a red and yellow fire hydrant on a sidewalk"
     ]
    },
    {
     "name": "stderr",
     "output_type": "stream",
     "text": [
      "\r",
      " 46%|████▌     | 108/235 [00:45<00:45,  2.77it/s]"
     ]
    },
    {
     "name": "stdout",
     "output_type": "stream",
     "text": [
      "\n",
      "actual caption: an orange and black fire hydrant sits on a sidewalk next to some black pipes\n"
     ]
    },
    {
     "name": "stderr",
     "output_type": "stream",
     "text": [
      "\r",
      " 46%|████▋     | 109/235 [00:46<00:42,  3.00it/s]"
     ]
    },
    {
     "name": "stdout",
     "output_type": "stream",
     "text": [
      "predicted caption: a motorcycle parked on the side of a road\n",
      "actual caption: a motorcyclist sits on the ground next to his motorcycle in the middle of a road in a wooded area\n"
     ]
    },
    {
     "name": "stderr",
     "output_type": "stream",
     "text": [
      " 47%|████▋     | 111/235 [00:46<00:33,  3.75it/s]"
     ]
    },
    {
     "name": "stdout",
     "output_type": "stream",
     "text": [
      "predicted caption: a street sign is on a pole in front of a building\n",
      "actual caption: a building with windows facing a street with lots of one way street signs and a stop sign\n",
      "predicted caption: a living room with a couch , chair , and a television\n",
      "actual caption: a clean and tidy living room with a couch , a table , and a painting on the wall\n"
     ]
    },
    {
     "name": "stderr",
     "output_type": "stream",
     "text": [
      "\r",
      " 48%|████▊     | 112/235 [00:46<00:30,  4.05it/s]"
     ]
    },
    {
     "name": "stdout",
     "output_type": "stream",
     "text": [
      "predicted caption: a group of elephants standing in a field\n",
      "actual caption: an elephant 's front legs are in the water and back legs are out of the water\n"
     ]
    },
    {
     "name": "stderr",
     "output_type": "stream",
     "text": [
      "\r",
      " 48%|████▊     | 113/235 [00:48<01:08,  1.78it/s]"
     ]
    },
    {
     "name": "stdout",
     "output_type": "stream",
     "text": [
      "predicted caption: a clock tower is on the side of a building\n",
      "actual caption: a large building with a clock on it 's face and a bird statue on top\n",
      "predicted caption: a bowl of fruit is on a table\n",
      "actual caption: a lime , chill peppers , bananas and a green bell pepper on a table\n"
     ]
    },
    {
     "name": "stderr",
     "output_type": "stream",
     "text": [
      " 49%|████▉     | 115/235 [00:48<00:45,  2.62it/s]"
     ]
    },
    {
     "name": "stdout",
     "output_type": "stream",
     "text": [
      "predicted caption: a bear is standing in the water near a tree\n",
      "actual caption: this polar bear is looking at the polar bear that is laying on the ground\n"
     ]
    },
    {
     "name": "stderr",
     "output_type": "stream",
     "text": [
      "\r",
      " 49%|████▉     | 116/235 [00:48<00:41,  2.86it/s]"
     ]
    },
    {
     "name": "stdout",
     "output_type": "stream",
     "text": [
      "predicted caption: a white sink sitting next to a sink\n",
      "actual caption: a black and green tile bathroom with a black toilet and a yellow bucket on the floor\n"
     ]
    },
    {
     "name": "stderr",
     "output_type": "stream",
     "text": [
      "\r",
      " 50%|████▉     | 117/235 [00:49<00:39,  2.97it/s]"
     ]
    },
    {
     "name": "stdout",
     "output_type": "stream",
     "text": [
      "predicted caption: a living room with a couch , chairs , a television and a television\n",
      "actual caption: a small living room with shelving by the window , a small sofa and coffee table and a television\n"
     ]
    },
    {
     "name": "stderr",
     "output_type": "stream",
     "text": [
      "\r",
      " 50%|█████     | 118/235 [00:49<00:37,  3.09it/s]"
     ]
    },
    {
     "name": "stdout",
     "output_type": "stream",
     "text": [
      "predicted caption: a group of people riding skis on a snow covered slope\n",
      "actual caption: a train is stopped in a snowy landscape as people with skis make a trail away from it and one man holding skis smiles for the camera\n"
     ]
    },
    {
     "name": "stderr",
     "output_type": "stream",
     "text": [
      "\r",
      " 51%|█████     | 119/235 [00:49<00:33,  3.43it/s]"
     ]
    },
    {
     "name": "stdout",
     "output_type": "stream",
     "text": [
      "predicted caption: a man is sitting at a table with a laptop\n",
      "actual caption: a sitting area with furniture and flowers makes a backdrop for a boy with headphones , sitting in the foreground at one of the chairs at a dining table that holds glasses and a handbag , working at a laptop\n"
     ]
    },
    {
     "name": "stderr",
     "output_type": "stream",
     "text": [
      "\r",
      " 51%|█████     | 120/235 [00:49<00:30,  3.75it/s]"
     ]
    },
    {
     "name": "stdout",
     "output_type": "stream",
     "text": [
      "predicted caption: a kitchen with a stove and a stove\n",
      "actual caption: a modern kitchen with stainless steel fridge , wooden cabinets , and overhead lighting is separated from the dining room by a bar\n"
     ]
    },
    {
     "name": "stderr",
     "output_type": "stream",
     "text": [
      "\r",
      " 51%|█████▏    | 121/235 [00:51<01:05,  1.73it/s]"
     ]
    },
    {
     "name": "stdout",
     "output_type": "stream",
     "text": [
      "predicted caption: a computer monitor and a keyboard on a desk\n",
      "actual caption: this workstation features three desktop monitors with a single keyboard as well as a laptop computer\n"
     ]
    },
    {
     "name": "stderr",
     "output_type": "stream",
     "text": [
      "\r",
      " 52%|█████▏    | 122/235 [00:51<00:52,  2.15it/s]"
     ]
    },
    {
     "name": "stdout",
     "output_type": "stream",
     "text": [
      "predicted caption: a zebra standing on top of a lush green field\n",
      "actual caption: a mother zebra feeding a baby zebra while another zebra stands with its head above the mother zebra 's back\n"
     ]
    },
    {
     "name": "stderr",
     "output_type": "stream",
     "text": [
      " 53%|█████▎    | 124/235 [00:51<00:38,  2.88it/s]"
     ]
    },
    {
     "name": "stdout",
     "output_type": "stream",
     "text": [
      "predicted caption: a small plane flying over a beach with a blue sky\n",
      "actual caption: a toy action figure holding a plastic mini teddy bear and a cocktail glass decoration on the snow\n",
      "predicted caption: a man and a woman standing next to each other\n",
      "actual caption: three young girls playing ball , with one of the girls trying to take the ball away\n"
     ]
    },
    {
     "name": "stderr",
     "output_type": "stream",
     "text": [
      "\r",
      " 53%|█████▎    | 125/235 [00:52<00:36,  3.02it/s]"
     ]
    },
    {
     "name": "stdout",
     "output_type": "stream",
     "text": [
      "predicted caption: a dog laying in a bed next to a bed\n",
      "actual caption: a room with filtered light coming through vertical blinds on a <unk> , with a sleeping dog lying on a dog bed next to a rocking chair\n"
     ]
    },
    {
     "name": "stderr",
     "output_type": "stream",
     "text": [
      " 54%|█████▍    | 127/235 [00:52<00:28,  3.77it/s]"
     ]
    },
    {
     "name": "stdout",
     "output_type": "stream",
     "text": [
      "predicted caption: a living room with a couch , chair , and a television\n",
      "actual caption: a bottle of wine , place settings , and some apples on a coffee table in front of a couch\n",
      "predicted caption: a bunch of people in a market with fruit and fruit\n",
      "actual caption: view of a market with many ripe and green bananas , hanging and on tables under tents , with people and a motorcycle\n"
     ]
    },
    {
     "name": "stderr",
     "output_type": "stream",
     "text": [
      "\r",
      " 54%|█████▍    | 128/235 [00:52<00:26,  4.05it/s]"
     ]
    },
    {
     "name": "stdout",
     "output_type": "stream",
     "text": [
      "predicted caption: a traffic light is on a pole in front of a building\n",
      "actual caption: a pole holding a traffic sign and two traffic lights in front of a building\n"
     ]
    },
    {
     "name": "stderr",
     "output_type": "stream",
     "text": [
      "\r",
      " 55%|█████▍    | 129/235 [00:54<01:02,  1.69it/s]"
     ]
    },
    {
     "name": "stdout",
     "output_type": "stream",
     "text": [
      "predicted caption: a stop sign with a sticker on it\n",
      "actual caption: odd , almost humorous human figure sticking out from a yellow pole , near intersection with stop and one way signs , night time , with car streaking by and very strong light in the background\n"
     ]
    },
    {
     "name": "stderr",
     "output_type": "stream",
     "text": [
      "\r",
      " 55%|█████▌    | 130/235 [00:54<00:49,  2.10it/s]"
     ]
    },
    {
     "name": "stdout",
     "output_type": "stream",
     "text": [
      "predicted caption: a teddy bear with a tag on it sitting on a bed\n",
      "actual caption: shelves hold rows of teddy bears of all sizes and colors while one lone snowman is sitting with them\n"
     ]
    },
    {
     "name": "stderr",
     "output_type": "stream",
     "text": [
      "\r",
      " 56%|█████▌    | 131/235 [00:54<00:41,  2.53it/s]"
     ]
    },
    {
     "name": "stdout",
     "output_type": "stream",
     "text": [
      "predicted caption: a plate of food with a sandwich and a bowl of soup\n",
      "actual caption: a plate with a breakfast sandwich , eggs and a fork next to two coffee mugs\n"
     ]
    },
    {
     "name": "stderr",
     "output_type": "stream",
     "text": [
      "\r",
      " 56%|█████▌    | 132/235 [00:54<00:36,  2.80it/s]"
     ]
    },
    {
     "name": "stdout",
     "output_type": "stream",
     "text": [
      "predicted caption: a stop sign with a sticker on it\n",
      "actual caption: a stop sign is on the corner near a shopping cart with a large store in the background\n"
     ]
    },
    {
     "name": "stderr",
     "output_type": "stream",
     "text": [
      "\r",
      " 57%|█████▋    | 133/235 [00:55<00:31,  3.20it/s]"
     ]
    },
    {
     "name": "stdout",
     "output_type": "stream",
     "text": [
      "predicted caption: a display of fruit and other fruits in a store\n",
      "actual caption: a produce stand with various types of fruits in bins for sale with the prices above the stands\n"
     ]
    },
    {
     "name": "stderr",
     "output_type": "stream",
     "text": [
      "\r",
      " 57%|█████▋    | 134/235 [00:55<00:28,  3.50it/s]"
     ]
    },
    {
     "name": "stdout",
     "output_type": "stream",
     "text": [
      "predicted caption: a bathroom with a toilet and a toilet\n",
      "actual caption: this bathroom has a toilet that sits back in a small niche and a shower with sliding glass doors\n"
     ]
    },
    {
     "name": "stderr",
     "output_type": "stream",
     "text": [
      "\r",
      " 57%|█████▋    | 135/235 [00:55<00:28,  3.54it/s]"
     ]
    },
    {
     "name": "stdout",
     "output_type": "stream",
     "text": [
      "predicted caption: a person is standing in the bathroom of a bathroom sink\n",
      "actual caption: a toilet cubicle door that you can see through the bottom half , revealing a mans feet and calves standing in front of a toilet\n"
     ]
    },
    {
     "name": "stderr",
     "output_type": "stream",
     "text": [
      "\r",
      " 58%|█████▊    | 136/235 [00:55<00:26,  3.80it/s]"
     ]
    },
    {
     "name": "stdout",
     "output_type": "stream",
     "text": [
      "predicted caption: a herd of sheep grazing on a lush green field\n",
      "actual caption: while in the immediate foreground juts a gnarled tree branch , the majority of the view consists of a an expanse of short grass dotted with a few longer tufts and a number of scattered , grazing sheep\n"
     ]
    },
    {
     "name": "stderr",
     "output_type": "stream",
     "text": [
      "\r",
      " 58%|█████▊    | 137/235 [00:57<00:55,  1.77it/s]"
     ]
    },
    {
     "name": "stdout",
     "output_type": "stream",
     "text": [
      "predicted caption: a man flying a kite in a field\n",
      "actual caption: a girl with long hair holds a string and looks up at the kites that are up in the air\n"
     ]
    },
    {
     "name": "stderr",
     "output_type": "stream",
     "text": [
      " 59%|█████▉    | 139/235 [00:57<00:36,  2.61it/s]"
     ]
    },
    {
     "name": "stdout",
     "output_type": "stream",
     "text": [
      "predicted caption: a motorcycle parked on the side of a road\n",
      "actual caption: a blue scooter is parked near a curb in front of a green vintage car\n",
      "predicted caption: a boat with a raft and a boat in the water\n",
      "actual caption: artwork of a ship with three masts and one sail open with a <unk> and crossbones on it , in bluish gray water with gray cement wall in background\n"
     ]
    },
    {
     "name": "stderr",
     "output_type": "stream",
     "text": [
      "\r",
      " 60%|█████▉    | 140/235 [00:57<00:31,  3.05it/s]"
     ]
    },
    {
     "name": "stdout",
     "output_type": "stream",
     "text": [
      "predicted caption: a person holding a large dog in a kitchen\n",
      "actual caption: two cups of ice cream sitting on a table in front of a woman with whipped cream and a cherry on top\n"
     ]
    },
    {
     "name": "stderr",
     "output_type": "stream",
     "text": [
      "\r",
      " 60%|██████    | 141/235 [00:57<00:29,  3.19it/s]"
     ]
    },
    {
     "name": "stdout",
     "output_type": "stream",
     "text": [
      "predicted caption: a desk with a laptop and a laptop on it\n",
      "actual caption: a laptop sits precariously on a desk , with a second keyboard in front of it , and windows behind it\n"
     ]
    },
    {
     "name": "stderr",
     "output_type": "stream",
     "text": [
      "\r",
      " 60%|██████    | 142/235 [00:58<00:26,  3.54it/s]"
     ]
    },
    {
     "name": "stdout",
     "output_type": "stream",
     "text": [
      "predicted caption: a plane flying in the air over a blue sky\n",
      "actual caption: a plane getting ready to land on a runway with another parked on the side or waiting to take off\n"
     ]
    },
    {
     "name": "stderr",
     "output_type": "stream",
     "text": [
      "\r",
      " 61%|██████    | 143/235 [00:58<00:23,  3.83it/s]"
     ]
    },
    {
     "name": "stdout",
     "output_type": "stream",
     "text": [
      "predicted caption: a baseball player holding a bat on a field\n",
      "actual caption: a player running the bases of a base ball game while an opposing player goes for the ball\n"
     ]
    },
    {
     "name": "stderr",
     "output_type": "stream",
     "text": [
      "\r",
      " 61%|██████▏   | 144/235 [00:58<00:22,  4.10it/s]"
     ]
    },
    {
     "name": "stdout",
     "output_type": "stream",
     "text": [
      "predicted caption: a man and woman are standing together in a room\n",
      "actual caption: a woman in a bridal gown holding flowers is posing next to a man in a shirt and tie\n"
     ]
    },
    {
     "name": "stderr",
     "output_type": "stream",
     "text": [
      "\r",
      " 62%|██████▏   | 145/235 [00:59<00:50,  1.79it/s]"
     ]
    },
    {
     "name": "stdout",
     "output_type": "stream",
     "text": [
      "predicted caption: a plane flying over a beach with a sky background\n",
      "actual caption: there is a row boat on very still waters with a ball in the water in front of it\n",
      "predicted caption: a dog is sitting on a bed in front of a television\n",
      "actual caption: "
     ]
    },
    {
     "name": "stderr",
     "output_type": "stream",
     "text": [
      "\r",
      " 62%|██████▏   | 146/235 [01:00<00:40,  2.21it/s]"
     ]
    },
    {
     "name": "stdout",
     "output_type": "stream",
     "text": [
      "a television is on , in front of a white couch with a sheet on top of it\n"
     ]
    },
    {
     "name": "stderr",
     "output_type": "stream",
     "text": [
      " 63%|██████▎   | 148/235 [01:00<00:28,  3.08it/s]"
     ]
    },
    {
     "name": "stdout",
     "output_type": "stream",
     "text": [
      "predicted caption: a street sign that has a lot of stickers on it\n",
      "actual caption: a street light on a metal pole above a street and before a red house\n",
      "predicted caption: a man is skateboarding down the street with a man\n",
      "actual caption: a woman with a cigarette standing , while a group of people with luggage walk towards a bus\n"
     ]
    },
    {
     "name": "stderr",
     "output_type": "stream",
     "text": [
      "\r",
      " 63%|██████▎   | 149/235 [01:00<00:24,  3.45it/s]"
     ]
    },
    {
     "name": "stdout",
     "output_type": "stream",
     "text": [
      "predicted caption: a plate of food with a sandwich and a pickle on it\n",
      "actual caption: a sandwich , french fries , bowl of ketchup , onion slice , lettuce slice , tomato slice , and knife sit on the white plate\n"
     ]
    },
    {
     "name": "stderr",
     "output_type": "stream",
     "text": [
      " 64%|██████▍   | 151/235 [01:01<00:22,  3.81it/s]"
     ]
    },
    {
     "name": "stdout",
     "output_type": "stream",
     "text": [
      "predicted caption: a table topped with a sandwich and a cup of coffee\n",
      "actual caption: a picture of a sandwich on a plate on a tray with a drink and a covered side item on a table facing a window\n",
      "predicted caption: a group of men playing a game of tennis\n",
      "actual caption: boys and girls with purple shirts standing next to one another with tennis racquets on a tennis court\n"
     ]
    },
    {
     "name": "stderr",
     "output_type": "stream",
     "text": [
      "\r",
      " 65%|██████▍   | 152/235 [01:01<00:20,  4.09it/s]"
     ]
    },
    {
     "name": "stdout",
     "output_type": "stream",
     "text": [
      "predicted caption: a woman sitting at a table with a plate of food\n",
      "actual caption: an elderly woman is seated at a table with a small cake in front of her\n"
     ]
    },
    {
     "name": "stderr",
     "output_type": "stream",
     "text": [
      " 66%|██████▌   | 154/235 [01:03<00:45,  1.80it/s]"
     ]
    },
    {
     "name": "stdout",
     "output_type": "stream",
     "text": [
      "predicted caption: a living room with a couch and a table\n",
      "actual caption: a living room containing a couch , glass case , a red brick fire place and french doors\n",
      "predicted caption: a man riding a wave on a surfboard in the ocean\n",
      "actual caption: a surfer is doing a stunt on a surfboard while he rides the wave almost <unk> down\n"
     ]
    },
    {
     "name": "stderr",
     "output_type": "stream",
     "text": [
      "\r",
      " 66%|██████▌   | 155/235 [01:03<00:35,  2.22it/s]"
     ]
    },
    {
     "name": "stdout",
     "output_type": "stream",
     "text": [
      "predicted caption: a baseball player holding a bat on a field\n",
      "actual caption: a baseball game with a baseball player at bat and a catcher and umpire behind home plate\n"
     ]
    },
    {
     "name": "stderr",
     "output_type": "stream",
     "text": [
      " 67%|██████▋   | 157/235 [01:03<00:25,  3.10it/s]"
     ]
    },
    {
     "name": "stdout",
     "output_type": "stream",
     "text": [
      "predicted caption: a vase with flowers on it and a glass of water\n",
      "actual caption: a wreath with red and green , and solid red fabric hanging from a door\n",
      "predicted caption: a table with a plate of food and a bowl of soup\n",
      "actual caption: a table is set with three mugs of beer , a slice of pie , a donut with a segment cut out , and few other objects\n"
     ]
    },
    {
     "name": "stderr",
     "output_type": "stream",
     "text": [
      "\r",
      " 67%|██████▋   | 158/235 [01:04<00:21,  3.50it/s]"
     ]
    },
    {
     "name": "stdout",
     "output_type": "stream",
     "text": [
      "predicted caption: a man is holding a tennis racket on a court\n",
      "actual caption: a young boy is in a tennis court and has his hand with the racket up and ready to receive a tennis ball\n",
      "predicted caption: a man and a woman are sitting at a table with a cake\n",
      "actual caption: two boys at a dinner table look at a console in one of the boys ' hands as a woman sits behind them\n"
     ]
    },
    {
     "name": "stderr",
     "output_type": "stream",
     "text": [
      " 68%|██████▊   | 160/235 [01:04<00:18,  4.12it/s]"
     ]
    },
    {
     "name": "stdout",
     "output_type": "stream",
     "text": [
      "predicted caption: a man and a woman are sitting at a table with a laptop\n",
      "actual caption: a boy and a girl are under a canopy , and the boy is a skateboard while watching a television\n"
     ]
    },
    {
     "name": "stderr",
     "output_type": "stream",
     "text": [
      "\r",
      " 69%|██████▊   | 161/235 [01:06<00:45,  1.62it/s]"
     ]
    },
    {
     "name": "stdout",
     "output_type": "stream",
     "text": [
      "predicted caption: a bathroom with a toilet and a toilet\n",
      "actual caption: two empty toilet paper roll holders hang in the stall while the <unk> lay around and a nice roll sets on the bar\n"
     ]
    },
    {
     "name": "stderr",
     "output_type": "stream",
     "text": [
      " 69%|██████▉   | 163/235 [01:06<00:29,  2.48it/s]"
     ]
    },
    {
     "name": "stdout",
     "output_type": "stream",
     "text": [
      "predicted caption: a woman sitting on a bench with a dog\n",
      "actual caption: a girl is sticking out her leg while sitting on a child 's beach chair\n",
      "predicted caption: a cake with a plate of food on it\n",
      "actual caption: a toilet tank lid with a bowl of soaps and seashells and a cup of toothbrushes and toothpaste\n"
     ]
    },
    {
     "name": "stderr",
     "output_type": "stream",
     "text": [
      "\r",
      " 70%|██████▉   | 164/235 [01:06<00:24,  2.92it/s]"
     ]
    },
    {
     "name": "stdout",
     "output_type": "stream",
     "text": [
      "predicted caption: a man sitting at a table with a laptop\n",
      "actual caption: two <unk> stand at booths in front of laptop computers in a dark room with stars being projected on the walls\n",
      "predicted caption: a man and woman standing next to each other\n",
      "actual caption: mostly men in suits posing for a group picture in front of a `` trade winds - asia '' sign\n"
     ]
    },
    {
     "name": "stderr",
     "output_type": "stream",
     "text": [
      " 71%|███████   | 166/235 [01:07<00:18,  3.70it/s]"
     ]
    },
    {
     "name": "stdout",
     "output_type": "stream",
     "text": [
      "predicted caption: a small boat on the water near a body of water\n",
      "actual caption: two people sitting beside each other in a row boat with small mast and sail , and two oars sticking out , in fairly calm water\n",
      "predicted caption: a street sign on a pole in front of a building\n",
      "actual caption: a clock stands on the sidewalk while a police car turns the intersection in front of an old looking building\n"
     ]
    },
    {
     "name": "stderr",
     "output_type": "stream",
     "text": [
      " 71%|███████▏  | 168/235 [01:07<00:15,  4.26it/s]"
     ]
    },
    {
     "name": "stdout",
     "output_type": "stream",
     "text": [
      "predicted caption: a red bus is parked in front of a building\n",
      "actual caption: a street scene shows a red and white bus with trees , a bus stop area , and a brick tower around the <unk>\n"
     ]
    },
    {
     "name": "stderr",
     "output_type": "stream",
     "text": [
      "\r",
      " 72%|███████▏  | 169/235 [01:09<00:44,  1.48it/s]"
     ]
    },
    {
     "name": "stdout",
     "output_type": "stream",
     "text": [
      "predicted caption: a red and white bus parked on the side of the road\n",
      "actual caption: a white bus with a painting of a blue flower on the front stopped on a street near a snow covered sidewalk\n"
     ]
    },
    {
     "name": "stderr",
     "output_type": "stream",
     "text": [
      " 73%|███████▎  | 171/235 [01:09<00:27,  2.32it/s]"
     ]
    },
    {
     "name": "stdout",
     "output_type": "stream",
     "text": [
      "predicted caption: a large elephant standing in the middle of a field\n",
      "actual caption: the back ends and legs of three elephants , including a baby , are seen on the side of a road\n",
      "predicted caption: a pizza is on a table with a pizza cutter\n",
      "actual caption: a close up view of a pizza sitting on a table with a soda in the back\n"
     ]
    },
    {
     "name": "stderr",
     "output_type": "stream",
     "text": [
      " 74%|███████▎  | 173/235 [01:09<00:19,  3.20it/s]"
     ]
    },
    {
     "name": "stdout",
     "output_type": "stream",
     "text": [
      "predicted caption: a woman and a woman sitting at a table with a cake\n",
      "actual caption: two people sitting at a table with beverages on it and the woman holding her phone\n",
      "predicted caption: a bathroom with a sink and a mirror\n",
      "actual caption: view of a bathroom vanity looking into a separate room with a toilet and window\n"
     ]
    },
    {
     "name": "stderr",
     "output_type": "stream",
     "text": [
      " 74%|███████▍  | 175/235 [01:10<00:15,  3.92it/s]"
     ]
    },
    {
     "name": "stdout",
     "output_type": "stream",
     "text": [
      "predicted caption: a man is holding a glass of wine\n",
      "actual caption: a man brushing his teeth with his mouth wide open holding a tube of toothpaste in the other hand\n",
      "predicted caption: a woman sitting on a bench with a dog\n",
      "actual caption: a man on his cell phone , wearing a leather jacket , gazing toward low mountains\n"
     ]
    },
    {
     "name": "stderr",
     "output_type": "stream",
     "text": [
      "\r",
      " 75%|███████▍  | 176/235 [01:10<00:14,  4.20it/s]"
     ]
    },
    {
     "name": "stdout",
     "output_type": "stream",
     "text": [
      "predicted caption: a chocolate cake with a piece of cake on it\n",
      "actual caption: a piece of cake sitting on top of a plate covered in marshmallow with a lit candle sticking out of it\n"
     ]
    },
    {
     "name": "stderr",
     "output_type": "stream",
     "text": [
      "\r",
      " 75%|███████▌  | 177/235 [01:11<00:27,  2.14it/s]"
     ]
    },
    {
     "name": "stdout",
     "output_type": "stream",
     "text": [
      "predicted caption: a zebra standing on top of a lush green field\n",
      "actual caption: a captive zebra nuzzles in the grass as an ostrich stands in the shade beneath the trees to the left\n"
     ]
    },
    {
     "name": "stderr",
     "output_type": "stream",
     "text": [
      "\r",
      " 76%|███████▌  | 178/235 [01:11<00:23,  2.44it/s]"
     ]
    },
    {
     "name": "stdout",
     "output_type": "stream",
     "text": [
      "predicted caption: a person sitting on a bench in a park\n",
      "actual caption: a view of a beer bottle and a beach with chairs , an umbrella and the ocean in the background\n"
     ]
    },
    {
     "name": "stderr",
     "output_type": "stream",
     "text": [
      "\r",
      " 76%|███████▌  | 179/235 [01:12<00:19,  2.83it/s]"
     ]
    },
    {
     "name": "stdout",
     "output_type": "stream",
     "text": [
      "predicted caption: a woman and woman sitting at a table with a pizza\n",
      "actual caption: a woman near two sitting men is taking a picture of a bowl of food on the table\n"
     ]
    },
    {
     "name": "stderr",
     "output_type": "stream",
     "text": [
      "\r",
      " 77%|███████▋  | 180/235 [01:12<00:17,  3.21it/s]"
     ]
    },
    {
     "name": "stdout",
     "output_type": "stream",
     "text": [
      "predicted caption: a clock that is on the side of a building\n",
      "actual caption: a corner of a james smith & sons store with various umbrellas lined up in the window\n"
     ]
    },
    {
     "name": "stderr",
     "output_type": "stream",
     "text": [
      "\r",
      " 77%|███████▋  | 181/235 [01:12<00:16,  3.31it/s]"
     ]
    },
    {
     "name": "stdout",
     "output_type": "stream",
     "text": [
      "predicted caption: a motorcycle parked on the side of a road\n",
      "actual caption: two motorcycles parked next to each other on a green grassy area next to a tree and shrubbery\n"
     ]
    },
    {
     "name": "stderr",
     "output_type": "stream",
     "text": [
      "\r",
      " 77%|███████▋  | 182/235 [01:12<00:14,  3.66it/s]"
     ]
    },
    {
     "name": "stdout",
     "output_type": "stream",
     "text": [
      "predicted caption: a man riding a motorcycle on a city street\n",
      "actual caption: a man sitting on a motorcycle with a girl sitting behind him as others look on\n"
     ]
    },
    {
     "name": "stderr",
     "output_type": "stream",
     "text": [
      "\r",
      " 78%|███████▊  | 183/235 [01:12<00:13,  3.92it/s]"
     ]
    },
    {
     "name": "stdout",
     "output_type": "stream",
     "text": [
      "predicted caption: a vase with flowers on it sitting on a table\n",
      "actual caption: a close of photo of a leg of a bench with pictures of people at cats\n"
     ]
    },
    {
     "name": "stderr",
     "output_type": "stream",
     "text": [
      "\r",
      " 78%|███████▊  | 184/235 [01:13<00:13,  3.85it/s]"
     ]
    },
    {
     "name": "stdout",
     "output_type": "stream",
     "text": [
      "predicted caption: a street sign is on a pole in front of a building\n",
      "actual caption: a large sign that says cave next to a sign that says resturant and lounge\n"
     ]
    },
    {
     "name": "stderr",
     "output_type": "stream",
     "text": [
      " 79%|███████▉  | 186/235 [01:15<00:28,  1.70it/s]"
     ]
    },
    {
     "name": "stdout",
     "output_type": "stream",
     "text": [
      "predicted caption: a group of people flying a kite in a field\n",
      "actual caption: a sparse crowd flies a kite in a field , with ocean and clouds in background\n",
      "predicted caption: a toilet with a dolphin and a black seat\n",
      "actual caption: a toilet with the wooden lid and seat raised up and a black tile floor below\n"
     ]
    },
    {
     "name": "stderr",
     "output_type": "stream",
     "text": [
      " 80%|████████  | 188/235 [01:15<00:18,  2.56it/s]"
     ]
    },
    {
     "name": "stdout",
     "output_type": "stream",
     "text": [
      "predicted caption: a table with a plate of food and a bowl of food\n",
      "actual caption: a large table containing several bottles of juice , a pizza , a pan of food , plates , napkins and plastic utensils\n",
      "predicted caption: a group of people standing around a tennis court\n",
      "actual caption: a basketball court with the head coach dressed in a suit and standing on the court , with a player near him and event staff close by\n"
     ]
    },
    {
     "name": "stderr",
     "output_type": "stream",
     "text": [
      "\r",
      " 80%|████████  | 189/235 [01:15<00:15,  3.00it/s]"
     ]
    },
    {
     "name": "stdout",
     "output_type": "stream",
     "text": [
      "predicted caption: a group of people are standing in the sand\n",
      "actual caption: people standing and some sitting on the sand of a beach with a kite flying and water in the distance\n"
     ]
    },
    {
     "name": "stderr",
     "output_type": "stream",
     "text": [
      " 81%|████████▏ | 191/235 [01:16<00:11,  3.78it/s]"
     ]
    },
    {
     "name": "stdout",
     "output_type": "stream",
     "text": [
      "predicted caption: a man in a suit and tie standing in front of a television\n",
      "actual caption: a young man dressed in a suit jacket and tie sits with his hands in front of him\n",
      "predicted caption: a kitchen with a table and a table with a clock\n",
      "actual caption: a luxury kitchen has golden oak cabinetry and flooring , stainless steel appliances and an <unk>\n"
     ]
    },
    {
     "name": "stderr",
     "output_type": "stream",
     "text": [
      "\r",
      " 82%|████████▏ | 192/235 [01:16<00:10,  4.08it/s]"
     ]
    },
    {
     "name": "stdout",
     "output_type": "stream",
     "text": [
      "predicted caption: a man and woman standing next to each other\n",
      "actual caption: a young man in a suit with his arm around the shoulder a shorter older man , also in a suit\n"
     ]
    },
    {
     "name": "stderr",
     "output_type": "stream",
     "text": [
      "\r",
      " 82%|████████▏ | 193/235 [01:18<00:26,  1.61it/s]"
     ]
    },
    {
     "name": "stdout",
     "output_type": "stream",
     "text": [
      "predicted caption: a man in a bikini holding a surfboard on a beach\n",
      "actual caption: a man in a wetsuit standing at the very edge of some water while holding a surfboard\n"
     ]
    },
    {
     "name": "stderr",
     "output_type": "stream",
     "text": [
      "\r",
      " 83%|████████▎ | 194/235 [01:18<00:20,  2.00it/s]"
     ]
    },
    {
     "name": "stdout",
     "output_type": "stream",
     "text": [
      "predicted caption: a plate of food with a salad and a fork\n",
      "actual caption: a roast pork <unk> with carrots and potatoes in a glass baking pan sits on the stovetop\n"
     ]
    },
    {
     "name": "stderr",
     "output_type": "stream",
     "text": [
      "\r",
      " 83%|████████▎ | 195/235 [01:18<00:17,  2.33it/s]"
     ]
    },
    {
     "name": "stdout",
     "output_type": "stream",
     "text": [
      "predicted caption: a pair of scissors and a cell phone on a table\n",
      "actual caption: a soda can , a pen , a cell phone and a fruit drink mix packet sitting on a table with a computer keyboard\n"
     ]
    },
    {
     "name": "stderr",
     "output_type": "stream",
     "text": [
      "\r",
      " 83%|████████▎ | 196/235 [01:18<00:14,  2.73it/s]"
     ]
    },
    {
     "name": "stdout",
     "output_type": "stream",
     "text": [
      "predicted caption: a person holding a hot dog in front of a bun\n",
      "actual caption: a woman is eating outside with a small picture of a truck in the corner of the photo\n"
     ]
    },
    {
     "name": "stderr",
     "output_type": "stream",
     "text": [
      "\r",
      " 84%|████████▍ | 197/235 [01:18<00:12,  3.12it/s]"
     ]
    },
    {
     "name": "stdout",
     "output_type": "stream",
     "text": [
      "predicted caption: a pair of scissors that are on a wall\n",
      "actual caption: a black and white clock sits on a black surface near a black and white curtain and a window at night\n",
      "predicted caption: a man and woman are standing in front of a cake\n",
      "actual caption: a lady holding a cake with candles on it while a lady near her is making gestures with her fingers\n"
     ]
    },
    {
     "name": "stderr",
     "output_type": "stream",
     "text": [
      " 85%|████████▍ | 199/235 [01:19<00:10,  3.58it/s]"
     ]
    },
    {
     "name": "stdout",
     "output_type": "stream",
     "text": [
      "predicted caption: a group of people standing around a man with a frisbee\n",
      "actual caption: a group of people pose for a picture while a man holds two surfboards\n"
     ]
    },
    {
     "name": "stderr",
     "output_type": "stream",
     "text": [
      "\r",
      " 85%|████████▌ | 200/235 [01:19<00:09,  3.84it/s]"
     ]
    },
    {
     "name": "stdout",
     "output_type": "stream",
     "text": [
      "predicted caption: a horse is standing in a parking lot\n",
      "actual caption: a tanker truck driving down a road with two people riding an elephant on the side of the road behind the passing truck\n"
     ]
    },
    {
     "name": "stderr",
     "output_type": "stream",
     "text": [
      "\r",
      " 86%|████████▌ | 201/235 [01:20<00:19,  1.74it/s]"
     ]
    },
    {
     "name": "stdout",
     "output_type": "stream",
     "text": [
      "predicted caption: a plane flying in the air with a sky background\n",
      "actual caption: a group of people looking at an air plane with its back cargo hold door open\n"
     ]
    },
    {
     "name": "stderr",
     "output_type": "stream",
     "text": [
      "\r",
      " 86%|████████▌ | 202/235 [01:21<00:15,  2.15it/s]"
     ]
    },
    {
     "name": "stdout",
     "output_type": "stream",
     "text": [
      "predicted caption: a man in a suit and tie standing next to a man\n",
      "actual caption: a laughing german man at a party wearing ridiculous ties and sunglasses <unk> it up for the camera\n"
     ]
    },
    {
     "name": "stderr",
     "output_type": "stream",
     "text": [
      "\r",
      " 86%|████████▋ | 203/235 [01:21<00:13,  2.45it/s]"
     ]
    },
    {
     "name": "stdout",
     "output_type": "stream",
     "text": [
      "predicted caption: a kitchen with a sink and a stove\n",
      "actual caption: a small kitchen with a stove with a teapot on the stove and other visible appliances\n"
     ]
    },
    {
     "name": "stderr",
     "output_type": "stream",
     "text": [
      " 87%|████████▋ | 205/235 [01:21<00:09,  3.29it/s]"
     ]
    },
    {
     "name": "stdout",
     "output_type": "stream",
     "text": [
      "predicted caption: a vase with flowers on it and a vase of flowers\n",
      "actual caption: a number of vases sit on a table in front of a body of water\n",
      "predicted caption: a cat sitting on top of a bed next to a computer\n",
      "actual caption: a large dog laying on the floor next to a couch and a dark colored cat laying on the floor to the side of the dog\n"
     ]
    },
    {
     "name": "stderr",
     "output_type": "stream",
     "text": [
      " 88%|████████▊ | 207/235 [01:22<00:07,  3.99it/s]"
     ]
    },
    {
     "name": "stdout",
     "output_type": "stream",
     "text": [
      "predicted caption: a man is skateboarding on a sidewalk with a skateboard\n",
      "actual caption: the boy practices his skateboarding skills on his homemade park , using wooden railings and large pieces of plywood\n",
      "predicted caption: a white sink sitting next to a sink\n",
      "actual caption: a toy lizard with a toothbrush in it 's mouth standing next to a running water faucet in a bathroom\n"
     ]
    },
    {
     "name": "stderr",
     "output_type": "stream",
     "text": [
      "\r",
      " 89%|████████▊ | 208/235 [01:22<00:06,  4.22it/s]"
     ]
    },
    {
     "name": "stdout",
     "output_type": "stream",
     "text": [
      "predicted caption: a fire hydrant is on the side of a road\n",
      "actual caption: a fire hydrant next to an exposed pipe in patch of shrubbery next to a street\n"
     ]
    },
    {
     "name": "stderr",
     "output_type": "stream",
     "text": [
      " 89%|████████▉ | 210/235 [01:23<00:10,  2.46it/s]"
     ]
    },
    {
     "name": "stdout",
     "output_type": "stream",
     "text": [
      "predicted caption: a bowl of fruit is on a table\n",
      "actual caption: a delicious fruit plate in a silver bowl the fruit includes an apple , two apricots , red and green grapes , a banana , and a peach\n",
      "predicted caption: a teddy bear is sitting in the middle of a tree\n",
      "actual caption: a statue of an elephant with a target on it 's back and the words `` never <unk> '' in a heart\n"
     ]
    },
    {
     "name": "stderr",
     "output_type": "stream",
     "text": [
      "\r",
      " 90%|████████▉ | 211/235 [01:23<00:08,  2.90it/s]"
     ]
    },
    {
     "name": "stdout",
     "output_type": "stream",
     "text": [
      "predicted caption: a man riding a horse in the water\n",
      "actual caption: this woman stands on the bank of a river as several elephants sneak up on her intent for the kill\n"
     ]
    },
    {
     "name": "stderr",
     "output_type": "stream",
     "text": [
      "\r",
      " 90%|█████████ | 212/235 [01:24<00:08,  2.81it/s]"
     ]
    },
    {
     "name": "stdout",
     "output_type": "stream",
     "text": [
      "predicted caption: a woman holding a tennis racket on a tennis court\n",
      "actual caption: a young boy walks through a park with his tennis racket and balls in a case over his shoulder\n"
     ]
    },
    {
     "name": "stderr",
     "output_type": "stream",
     "text": [
      "\r",
      " 91%|█████████ | 213/235 [01:24<00:06,  3.19it/s]"
     ]
    },
    {
     "name": "stdout",
     "output_type": "stream",
     "text": [
      "predicted caption: a computer monitor and a keyboard on a desk\n",
      "actual caption: the keyboard and mouse is sitting on a wooden workbench next to a <unk>\n",
      "predicted caption: a group of men playing a game of frisbee\n",
      "actual caption: school aged girls in street , talking , while one lies on payment with horse drawn carriage in background\n"
     ]
    },
    {
     "name": "stderr",
     "output_type": "stream",
     "text": [
      " 91%|█████████▏| 215/235 [01:24<00:05,  3.89it/s]"
     ]
    },
    {
     "name": "stdout",
     "output_type": "stream",
     "text": [
      "predicted caption: a giraffe standing in the middle of a field\n",
      "actual caption: many giraffes walk along a wooden fence in a small lot with sand and palm trees\n"
     ]
    },
    {
     "name": "stderr",
     "output_type": "stream",
     "text": [
      "\r",
      " 92%|█████████▏| 216/235 [01:25<00:04,  3.83it/s]"
     ]
    },
    {
     "name": "stdout",
     "output_type": "stream",
     "text": [
      "predicted caption: a man is holding a plate of food and a woman\n",
      "actual caption: an older man stands in front of store shelves while looking off in the distance and holding a small glass with a stem\n"
     ]
    },
    {
     "name": "stderr",
     "output_type": "stream",
     "text": [
      "\r",
      " 92%|█████████▏| 217/235 [01:26<00:11,  1.56it/s]"
     ]
    },
    {
     "name": "stdout",
     "output_type": "stream",
     "text": [
      "predicted caption: a group of people are standing in the sand\n",
      "actual caption: a group of men and women on the beach with striped towels and a yellow surfboard\n"
     ]
    },
    {
     "name": "stderr",
     "output_type": "stream",
     "text": [
      "\r",
      " 93%|█████████▎| 218/235 [01:26<00:08,  1.96it/s]"
     ]
    },
    {
     "name": "stdout",
     "output_type": "stream",
     "text": [
      "predicted caption: a person is standing in front of a refrigerator\n",
      "actual caption: a man and a woman are speaking in a darkened room , in front of a computer on a tall desk\n"
     ]
    },
    {
     "name": "stderr",
     "output_type": "stream",
     "text": [
      " 94%|█████████▎| 220/235 [01:27<00:06,  2.41it/s]"
     ]
    },
    {
     "name": "stdout",
     "output_type": "stream",
     "text": [
      "predicted caption: a skateboarder is doing a trick on a skateboard\n",
      "actual caption: a wooden skateboard ramp with a person at the top of the ramp with a skateboard at his feet and other people around the ramp\n",
      "predicted caption: a parking meter is on the side of a road\n",
      "actual caption: a old blue rusted meter is standing on the side of a street , in front of a plant pot\n"
     ]
    },
    {
     "name": "stderr",
     "output_type": "stream",
     "text": [
      " 94%|█████████▍| 222/235 [01:28<00:03,  3.29it/s]"
     ]
    },
    {
     "name": "stdout",
     "output_type": "stream",
     "text": [
      "predicted caption: a man holding a smart phone in front of a camera\n",
      "actual caption: a man with two bottles of beer , a sign , and a wine glass at a counter\n",
      "predicted caption: a bed with a white bedspread and a white blanket\n",
      "actual caption: two made beds , a nightstand with a lamp , and framed art on the wall\n"
     ]
    },
    {
     "name": "stderr",
     "output_type": "stream",
     "text": [
      "\r",
      " 95%|█████████▍| 223/235 [01:28<00:03,  3.67it/s]"
     ]
    },
    {
     "name": "stdout",
     "output_type": "stream",
     "text": [
      "predicted caption: a woman in a kitchen with a pizza and a plate of food\n",
      "actual caption: a woman cooking with a large white bot and a cooking board with meat in it in a small kitchen\n",
      "predicted caption: a stop sign with a sticker on the side of it\n",
      "actual caption: a close up of a country sign , the picture is a <unk> bus that is freaking out because it is about to hit a biker , and the sign below reads <unk> <unk> de route '\n"
     ]
    },
    {
     "name": "stderr",
     "output_type": "stream",
     "text": [
      " 96%|█████████▌| 225/235 [01:29<00:03,  2.82it/s]"
     ]
    },
    {
     "name": "stdout",
     "output_type": "stream",
     "text": [
      "predicted caption: a living room with a couch , chairs , a television and a television\n",
      "actual caption: this living room has leather furniture , a television , and a model ship on top of a fireplace\n"
     ]
    },
    {
     "name": "stderr",
     "output_type": "stream",
     "text": [
      " 97%|█████████▋| 227/235 [01:29<00:02,  3.76it/s]"
     ]
    },
    {
     "name": "stdout",
     "output_type": "stream",
     "text": [
      "predicted caption: a baseball player is swinging a bat at a ball\n",
      "actual caption: a baseball game with a left handed batter swinging at a pitch and the catcher and umpire behind him\n",
      "predicted caption: a man sitting on a couch with a laptop on his lap\n",
      "actual caption: a woman with a cell phone sitting on a couch surrounded by a red white and blue border\n"
     ]
    },
    {
     "name": "stderr",
     "output_type": "stream",
     "text": [
      " 97%|█████████▋| 229/235 [01:29<00:01,  4.75it/s]"
     ]
    },
    {
     "name": "stdout",
     "output_type": "stream",
     "text": [
      "predicted caption: a bathroom with a sink and a mirror\n",
      "actual caption: a bathroom with a squarish motif , square sink , square faucets , square mirror\n",
      "predicted caption: a cake with a plate of food on it\n",
      "actual caption: two birthday cakes sitting on a table one has happy birthday pat on it , the other a seven and zero candles\n"
     ]
    },
    {
     "name": "stderr",
     "output_type": "stream",
     "text": [
      " 98%|█████████▊| 231/235 [01:30<00:00,  5.46it/s]"
     ]
    },
    {
     "name": "stdout",
     "output_type": "stream",
     "text": [
      "predicted caption: a woman sitting on a couch with a laptop on her lap\n",
      "actual caption: three women sitting on a bench in front of a painting looking at their phones\n",
      "predicted caption: a cake with a plate of food on it\n",
      "actual caption: two dishes , one with soap and shells and another with toothpaste and toothbrushes , sit on a toilet\n"
     ]
    },
    {
     "name": "stderr",
     "output_type": "stream",
     "text": [
      " 99%|█████████▉| 233/235 [01:30<00:00,  5.87it/s]"
     ]
    },
    {
     "name": "stdout",
     "output_type": "stream",
     "text": [
      "predicted caption: a stop sign with a sticker on it\n",
      "actual caption: a picture of a street upside down , showing that the street signs with directional arrows was posted upside down\n",
      "predicted caption: a person holding a pink umbrella in front of a building\n",
      "actual caption: an overhead view of a city cross walk on a rainy day features an array of colorful umbrellas\n"
     ]
    },
    {
     "name": "stderr",
     "output_type": "stream",
     "text": [
      "\r",
      "100%|█████████▉| 234/235 [01:30<00:00,  6.01it/s]"
     ]
    },
    {
     "name": "stdout",
     "output_type": "stream",
     "text": [
      "predicted caption: a clock tower is on the side of a building\n",
      "actual caption: a ballroom type fixture displays a clock which hangs from a <unk> lighting boom over a large boulder\n",
      "predicted caption: a person riding skis down a snow covered slope\n",
      "actual caption: person in white and black snow boarding down a hill toward the camera\n"
     ]
    },
    {
     "name": "stderr",
     "output_type": "stream",
     "text": [
      "\r",
      "100%|██████████| 235/235 [01:30<00:00,  2.58it/s]"
     ]
    },
    {
     "name": "stdout",
     "output_type": "stream",
     "text": [
      "Test Performance: Loss: 1.5139005681301685, Bleu1: 6.298173363668614, Bleu4: 0.6183268786483774\n"
     ]
    },
    {
     "name": "stderr",
     "output_type": "stream",
     "text": [
      "\n"
     ]
    },
    {
     "data": {
      "text/plain": [
       "(1.5139005681301685,\n",
       " <function caption_utils.bleu1(reference_captions, predicted_caption)>,\n",
       " <function caption_utils.bleu4(reference_captions, predicted_caption)>)"
      ]
     },
     "execution_count": 3,
     "metadata": {},
     "output_type": "execute_result"
    }
   ],
   "source": [
    "exp_name = 'default'\n",
    "\n",
    "print(\"Running Experiment: \", exp_name)\n",
    "exp = Experiment(exp_name)\n",
    "exp.run()\n",
    "exp.test()"
   ]
  },
  {
   "cell_type": "code",
   "execution_count": null,
   "metadata": {},
   "outputs": [],
   "source": []
  }
 ],
 "metadata": {
  "kernelspec": {
   "display_name": "Python 3",
   "language": "python",
   "name": "python3"
  },
  "language_info": {
   "codemirror_mode": {
    "name": "ipython",
    "version": 3
   },
   "file_extension": ".py",
   "mimetype": "text/x-python",
   "name": "python",
   "nbconvert_exporter": "python",
   "pygments_lexer": "ipython3",
   "version": "3.7.6"
  }
 },
 "nbformat": 4,
 "nbformat_minor": 4
}
